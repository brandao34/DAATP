{
 "cells": [
  {
   "cell_type": "markdown",
   "metadata": {},
   "source": [
    "# IMPORTS"
   ]
  },
  {
   "cell_type": "code",
   "execution_count": 115,
   "metadata": {},
   "outputs": [],
   "source": [
    "from sklearn.ensemble import RandomForestClassifier\n",
    "from sklearn.metrics import classification_report, confusion_matrix\n",
    "from sklearn.metrics import accuracy_score\n",
    "from sklearn.ensemble import RandomForestClassifier\n",
    "import matplotlib.pyplot as plt\n",
    "import matplotlib.pyplot as plt\n",
    "import pandas as pd\n",
    "import numpy as np\n",
    "from sklearn.model_selection import GridSearchCV, train_test_split\n",
    "import seaborn as sns\n",
    "from sklearn.model_selection import train_test_split\n",
    "from sklearn.model_selection import cross_val_predict\n",
    "from sklearn.model_selection import cross_val_score\n",
    "import matplotlib.pyplot as plt\n",
    "import seaborn as sns\n",
    "from sklearn.metrics import confusion_matrix\n",
    "from xgboost import XGBClassifier\n",
    "from sklearn.ensemble import RandomForestClassifier\n",
    "from sklearn.metrics import classification_report, confusion_matrix\n",
    "import seaborn as sns\n",
    "import matplotlib.pyplot as plt\n",
    "from sklearn.ensemble import ExtraTreesClassifier\n",
    "from sklearn.ensemble import GradientBoostingClassifier\n",
    "from sklearn.neighbors import KNeighborsClassifier"
   ]
  },
  {
   "cell_type": "markdown",
   "metadata": {},
   "source": [
    "## LEITURA DOS DADOS"
   ]
  },
  {
   "cell_type": "code",
   "execution_count": 116,
   "metadata": {},
   "outputs": [
    {
     "name": "stdout",
     "output_type": "stream",
     "text": [
      "Shape of df: (305, 2181)\n",
      "Shape of df_test: (100, 2180)\n"
     ]
    }
   ],
   "source": [
    "df = pd.read_csv('../../RawData/train_radiomics_hipocamp.csv') \n",
    "df_test = pd.read_csv('../../RawData/test_radiomics_hipocamp.csv')\n",
    "\n",
    "print(f\"Shape of df: {df.shape}\")\n",
    "print(f\"Shape of df_test: {df_test.shape}\")\n"
   ]
  },
  {
   "cell_type": "markdown",
   "metadata": {},
   "source": [
    "# Tratamento"
   ]
  },
  {
   "cell_type": "markdown",
   "metadata": {},
   "source": [
    "### Single Value Colums "
   ]
  },
  {
   "cell_type": "code",
   "execution_count": 117,
   "metadata": {},
   "outputs": [],
   "source": [
    "df = df.loc[:, df.nunique() > 1]\n",
    "df_test = df_test.loc[:, df_test.nunique() > 1]\n",
    "\n",
    "\n",
    "#  Analise das colunas que tem menos de 50 valores unicos \n",
    "#n = df.nunique()\n",
    "#for col, e in n.items():\n",
    "#    if e < 50:  \n",
    "#        print(f\"Coluna: {col}, Valores Unicos : {e}\")\n",
    "\n"
   ]
  },
  {
   "cell_type": "markdown",
   "metadata": {},
   "source": [
    "### AGE BINING  ( secalhar isto era no 2 )"
   ]
  },
  {
   "cell_type": "code",
   "execution_count": 118,
   "metadata": {},
   "outputs": [],
   "source": [
    "\n",
    "age_bins = [0, 65, 75, 85, 100]\n",
    "# BINS_SIZER = ['<65', '65-74', '75-84', '85+']\n",
    "age_labels = [60, 70, 80, 90] # VALOR MEDIO DO BIN \n",
    "df['Age'] = pd.cut(df['Age'], bins=age_bins, labels=age_labels).astype(int)\n",
    "df_test['Age'] = pd.cut(df_test['Age'], bins=age_bins, labels=age_labels).astype(int)\n",
    "\n"
   ]
  },
  {
   "cell_type": "markdown",
   "metadata": {},
   "source": [
    "### Colunas Categoricas "
   ]
  },
  {
   "cell_type": "code",
   "execution_count": 119,
   "metadata": {},
   "outputs": [],
   "source": [
    "# Analisar a contagem de valores únicos para cada coluna categórica\n",
    "\n",
    "# Identificar as colunas categóricas\n",
    "categorical_columns = df.select_dtypes(include=['object', 'category']).columns\n",
    "\n",
    "#for col in categorical_columns:\n",
    "#    print(f\"\\nColuna: {col}\")\n",
    "\n",
    "#colunas_catagoricas_a_remover = ['ID', 'Image', 'Mask', 'diagnostics_Image-original_Hash', 'diagnostics_Mask-original_Hash'] \n",
    "\n",
    "colunas_catagoricas_a_remover = ['ID', 'Image', 'Mask', 'diagnostics_Image-original_Hash', 'diagnostics_Mask-original_Hash', 'diagnostics_Mask-original_BoundingBox', 'diagnostics_Mask-original_CenterOfMassIndex', 'diagnostics_Mask-original_CenterOfMass'] \n",
    "\n",
    "# ** Bounding Box\n",
    "#\n",
    "# ** as colunas do 'diagnostics_Mask-original_BoundingBox', 'diagnostics_Mask-original_CenterOfMassIndex', 'diagnostics_Mask-original_CenterOfMass'\n",
    "# ** Deveriam ser retiradas, mas o bounding box pode ser importante para a zona de maior ativação do Alzimeir \n",
    "# **  ja a de centro de maxima devem ser muito correlacionados, por isso devem ser retirados mais para a frente \n",
    "# *TODO acabei por retirar para correr melhor os modelos, mas analisar se se deve retirar ou nao \n",
    "\n",
    "df.drop(columns=colunas_catagoricas_a_remover,axis= 1 , inplace= True)\n",
    "df_test.drop(columns=colunas_catagoricas_a_remover,axis= 1 , inplace= True)"
   ]
  },
  {
   "cell_type": "markdown",
   "metadata": {},
   "source": [
    "### Eliminar Transition CN-MCI && Label_Mapping\n",
    "\n",
    "Como este tipo de precisao não vai ser realiza, decidimos retirar todas as linhas com ela relacinadas para nao confundir o nosso modelo"
   ]
  },
  {
   "cell_type": "code",
   "execution_count": 120,
   "metadata": {},
   "outputs": [],
   "source": [
    "df = df[df['Transition'] != 'CN-MCI']\n",
    "\n",
    "\n",
    "label_mapping = {\n",
    "    'CN-CN': 0,\n",
    "    'AD-AD': 1,\n",
    "    'MCI-AD': 2,\n",
    "    'MCI-MCI': 3,\n",
    "#    'CN-MCI' : 4\n",
    "}\n",
    "# Apply the mapping to the target column\n",
    "df['Transition'] = df['Transition'].map(label_mapping)\n"
   ]
  },
  {
   "cell_type": "markdown",
   "metadata": {},
   "source": [
    "## Correlacao com target "
   ]
  },
  {
   "cell_type": "code",
   "execution_count": 121,
   "metadata": {},
   "outputs": [
    {
     "name": "stdout",
     "output_type": "stream",
     "text": [
      "(295, 2014)\n",
      "(295, 1661)\n"
     ]
    }
   ],
   "source": [
    "def remove_highly_correlated_with_target(data, target_column, threshold):\n",
    "    # Compute the correlation of each column with the target column\n",
    "    corr_with_target = data.corr()[target_column].abs()\n",
    "    \n",
    "    # Identify columns to remove based on correlation with the target\n",
    "    to_drop = corr_with_target[corr_with_target >= threshold].index\n",
    "    to_drop = to_drop.drop(target_column)  # Remove target column itself if included\n",
    "    \n",
    "    # Drop the identified columns\n",
    "    data_final = data.drop(columns=to_drop)\n",
    "\n",
    "    return data_final\n",
    "print(df.shape)\n",
    "df = remove_highly_correlated_with_target(df, 'Transition',threshold=0.18)\n",
    "print(df.shape)\n"
   ]
  },
  {
   "cell_type": "markdown",
   "metadata": {},
   "source": [
    "## Correlacao colunas"
   ]
  },
  {
   "cell_type": "code",
   "execution_count": null,
   "metadata": {},
   "outputs": [
    {
     "name": "stdout",
     "output_type": "stream",
     "text": [
      "(295, 1661)\n",
      "(295, 797)\n"
     ]
    }
   ],
   "source": [
    "def remove_highly_correlated_features(data, threshold):\n",
    "    # Compute the correlation matrix\n",
    "    corr_matrix = data.corr().abs()\n",
    "\n",
    "    # Identify columns to remove based on correlation\n",
    "    to_drop = set()\n",
    "    for i in range(len(corr_matrix.columns)):\n",
    "        for j in range(i + 1, len(corr_matrix.columns)):\n",
    "            if corr_matrix.iloc[i, j] >= threshold:\n",
    "                to_drop.add(corr_matrix.columns[j])\n",
    "\n",
    "    # Drop the identified columns\n",
    "    data_final = data.drop(columns=to_drop)\n",
    "\n",
    "    return data_final\n",
    "\n",
    "\n",
    "\n",
    "print(df.shape)\n",
    "df = remove_highly_correlated_features(df,0.95)\n",
    "print(df.shape)"
   ]
  },
  {
   "cell_type": "markdown",
   "metadata": {},
   "source": [
    "## Desvio Padrao "
   ]
  },
  {
   "cell_type": "code",
   "execution_count": 123,
   "metadata": {},
   "outputs": [
    {
     "name": "stdout",
     "output_type": "stream",
     "text": [
      "(295, 797)\n",
      "(295, 797)\n"
     ]
    }
   ],
   "source": [
    "from sklearn.feature_selection import VarianceThreshold\n",
    "\n",
    "\n",
    "def remove_low_variance_features(data, threshold=0.01):\n",
    "    # Remove low variance features\n",
    "    selector = VarianceThreshold(threshold=threshold)\n",
    "    low_variance_data = selector.fit_transform(data.select_dtypes(include=['float64', 'int64']))\n",
    "\n",
    "    # Get the columns to keep\n",
    "    retained_columns = data.select_dtypes(include=['float64', 'int64']).columns[selector.get_support(indices=True)]\n",
    "\n",
    "    # Create a DataFrame with the retained columns\n",
    "    data_reduced = pd.DataFrame(low_variance_data, columns=retained_columns)\n",
    "\n",
    "    return data_reduced\n",
    "print(df.shape)\n",
    "#df = remove_low_variance_features(df)\n",
    "print(df.shape)\n"
   ]
  },
  {
   "cell_type": "markdown",
   "metadata": {},
   "source": [
    "## Models"
   ]
  },
  {
   "cell_type": "code",
   "execution_count": 124,
   "metadata": {},
   "outputs": [],
   "source": [
    "\n",
    "#experiment = setup(df, target='Transition')"
   ]
  },
  {
   "cell_type": "code",
   "execution_count": 125,
   "metadata": {},
   "outputs": [],
   "source": [
    "#best = compare_models()"
   ]
  },
  {
   "cell_type": "markdown",
   "metadata": {},
   "source": [
    "Com o tratamento atual, o pycaret diz que os melhores modelos são :\n",
    "- Random Forest Classifier\n",
    "- Extra Trees Classifier\n",
    "- Gradient Boosting Classifier \n",
    "- K Neighbors Classifier\n",
    "- Extreme Gradient Boosting \n"
   ]
  },
  {
   "cell_type": "markdown",
   "metadata": {},
   "source": [
    "### Aplicação dos modelos (default) ao dataset tratado"
   ]
  },
  {
   "cell_type": "code",
   "execution_count": 126,
   "metadata": {},
   "outputs": [],
   "source": [
    "from imblearn.over_sampling import SMOTE\n"
   ]
  },
  {
   "cell_type": "code",
   "execution_count": 127,
   "metadata": {},
   "outputs": [],
   "source": [
    "#X = df.drop('Transition', axis=1)\n",
    "#y = df['Transition']\n",
    "#print(X.shape)\n",
    "#print(y.shape)\n",
    "#\n",
    "#smote = SMOTE(sampling_strategy=\"auto\", random_state=34)\n",
    "#X_res, y_res = smote.fit_resample(X, y)\n",
    "#print('Resampled dataset shape %s %s' % X_res.shape,y_res.shape)\n",
    "#print(\"Y Smote Values:\")\n",
    "#y_res.value_counts()"
   ]
  },
  {
   "cell_type": "code",
   "execution_count": 128,
   "metadata": {},
   "outputs": [],
   "source": [
    "from sklearn.model_selection import train_test_split\n",
    "from imblearn.over_sampling import SMOTE\n",
    "\n",
    "# Separar as features e o target\n",
    "X = df.drop('Transition', axis=1)\n",
    "y = df['Transition']\n",
    "\n",
    "# Dividir o conjunto de dados em treino e teste com estratificação\n",
    "X_train, X_test, y_train, y_test = train_test_split(X, y, test_size=0.25, random_state=34, stratify=y)\n",
    "\n",
    "\n",
    "\n",
    "smote = SMOTE(sampling_strategy=\"auto\", random_state=34)\n",
    "X_res, y_res = smote.fit_resample(X_train, y_train)\n",
    "\n",
    "\n",
    "# Inicializar dicionário para armazenar as pontuações de cross-validation do modelo\n",
    "model_cross_score = {}\n"
   ]
  },
  {
   "cell_type": "code",
   "execution_count": 129,
   "metadata": {},
   "outputs": [
    {
     "name": "stdout",
     "output_type": "stream",
     "text": [
      "Y Res Values\n"
     ]
    },
    {
     "data": {
      "text/plain": [
       "Transition\n",
       "3    72\n",
       "0    72\n",
       "1    72\n",
       "2    72\n",
       "Name: count, dtype: int64"
      ]
     },
     "execution_count": 129,
     "metadata": {},
     "output_type": "execute_result"
    }
   ],
   "source": [
    "\n",
    "\n",
    "print(\"Y Res Values\")\n",
    "y_res.value_counts()"
   ]
  },
  {
   "cell_type": "markdown",
   "metadata": {},
   "source": [
    "#### Funcao axuliar "
   ]
  },
  {
   "cell_type": "code",
   "execution_count": 130,
   "metadata": {},
   "outputs": [],
   "source": [
    "def plot_confusion_matrix_with_labels(confusion_matrix, label_mapping):\n",
    "    # Criar um mapeamento inverso\n",
    "    reverse_label_mapping = {v: k for k, v in label_mapping.items()}\n",
    "    \n",
    "    # Aplicar o mapeamento inverso na matriz de confusão\n",
    "    cm_with_labels = np.zeros_like(confusion_matrix, dtype=object)\n",
    "    for i in range(confusion_matrix.shape[0]):\n",
    "        for j in range(confusion_matrix.shape[1]):\n",
    "            cm_with_labels[i, j] = f\"{reverse_label_mapping[i]} (Pred: {reverse_label_mapping[j]})\"\n",
    "\n",
    "    # Criar um DataFrame para facilitar a visualização\n",
    "    df_cm = pd.DataFrame(confusion_matrix, index=reverse_label_mapping.values(), columns=reverse_label_mapping.values())\n",
    "    \n",
    "    # Plotar a matriz de confusão\n",
    "    plt.figure(figsize=(10, 7))\n",
    "    sns.heatmap(df_cm, annot=True, fmt=\"d\", cmap=\"Blues\")\n",
    "    plt.xlabel('Predicted')\n",
    "    plt.ylabel('True')\n",
    "    plt.title('Confusion Matrix with Labels')\n",
    "    plt.show()"
   ]
  },
  {
   "cell_type": "markdown",
   "metadata": {},
   "source": [
    "#### Random Forest Classifier"
   ]
  },
  {
   "cell_type": "code",
   "execution_count": 131,
   "metadata": {},
   "outputs": [
    {
     "name": "stdout",
     "output_type": "stream",
     "text": [
      "              precision    recall  f1-score   support\n",
      "\n",
      "           0       0.55      0.67      0.60        24\n",
      "           1       0.53      0.60      0.56        15\n",
      "           2       0.19      0.18      0.18        17\n",
      "           3       0.33      0.22      0.27        18\n",
      "\n",
      "    accuracy                           0.43        74\n",
      "   macro avg       0.40      0.42      0.40        74\n",
      "weighted avg       0.41      0.43      0.42        74\n",
      "\n"
     ]
    },
    {
     "data": {
      "image/png": "[encoded data removed]",
      "text/plain": [
       "<Figure size 1000x700 with 2 Axes>"
      ]
     },
     "metadata": {},
     "output_type": "display_data"
    },
    {
     "name": "stdout",
     "output_type": "stream",
     "text": [
      "Cross validation score:0.6639443436176649\n"
     ]
    }
   ],
   "source": [
    "\n",
    "rf_model = RandomForestClassifier(n_estimators=100, max_features='sqrt', random_state=34)\n",
    "\n",
    "rf_model.fit(X_res, y_res)\n",
    "\n",
    "\n",
    "rf_pred = rf_model.predict(X_test)\n",
    "print(classification_report(y_test, rf_pred))\n",
    "cm = confusion_matrix(y_test, rf_pred)\n",
    "plot_confusion_matrix_with_labels(cm,label_mapping)\n",
    "\n",
    "model_cross_score['random_forest'] = cross_val_score(rf_model, X_res, y_res, cv=5).mean()\n",
    "print(f\"Cross validation score:{model_cross_score['random_forest']}\")\n",
    "\n",
    "\n"
   ]
  },
  {
   "cell_type": "markdown",
   "metadata": {},
   "source": [
    "#### Extra Trees Classifier"
   ]
  },
  {
   "cell_type": "code",
   "execution_count": 132,
   "metadata": {},
   "outputs": [
    {
     "name": "stdout",
     "output_type": "stream",
     "text": [
      "              precision    recall  f1-score   support\n",
      "\n",
      "           0       0.51      0.75      0.61        24\n",
      "           1       0.62      0.53      0.57        15\n",
      "           2       0.29      0.29      0.29        17\n",
      "           3       0.33      0.17      0.22        18\n",
      "\n",
      "    accuracy                           0.46        74\n",
      "   macro avg       0.44      0.44      0.42        74\n",
      "weighted avg       0.44      0.46      0.44        74\n",
      "\n"
     ]
    },
    {
     "data": {
      "image/png": "[encoded data removed]",
      "text/plain": [
       "<Figure size 1000x700 with 2 Axes>"
      ]
     },
     "metadata": {},
     "output_type": "display_data"
    },
    {
     "name": "stdout",
     "output_type": "stream",
     "text": [
      "0.4594594594594595\n",
      "0.691772534785239\n",
      "Cross validation score:0.691772534785239\n"
     ]
    }
   ],
   "source": [
    "et_model = ExtraTreesClassifier(criterion='gini', max_depth=20, random_state=34)\n",
    "et_model.fit(X_res, y_res)\n",
    "et_pred = et_model.predict(X_test)\n",
    "print(classification_report(y_test,et_pred))\n",
    "cm = confusion_matrix(y_test,et_pred)\n",
    "plot_confusion_matrix_with_labels(cm, label_mapping)\n",
    "plt.show\n",
    "print(accuracy_score(y_test, et_pred))\n",
    "print(cross_val_score(et_model,X_res,y_res,cv=5).mean())\n",
    "\n",
    "model_cross_score['Extra Trees'] = cross_val_score(et_model, X_res, y_res, cv=5).mean()\n",
    "print(f\"Cross validation score:{model_cross_score['Extra Trees']}\")\n",
    "\n"
   ]
  },
  {
   "cell_type": "markdown",
   "metadata": {},
   "source": [
    "#### Gradient Boosting Classifier "
   ]
  },
  {
   "cell_type": "code",
   "execution_count": 133,
   "metadata": {},
   "outputs": [
    {
     "name": "stdout",
     "output_type": "stream",
     "text": [
      "              precision    recall  f1-score   support\n",
      "\n",
      "           0       0.64      0.58      0.61        24\n",
      "           1       0.64      0.60      0.62        15\n",
      "           2       0.23      0.18      0.20        17\n",
      "           3       0.28      0.39      0.33        18\n",
      "\n",
      "    accuracy                           0.45        74\n",
      "   macro avg       0.45      0.44      0.44        74\n",
      "weighted avg       0.46      0.45      0.45        74\n",
      "\n"
     ]
    },
    {
     "data": {
      "image/png": "[encoded data removed]",
      "text/plain": [
       "<Figure size 1000x700 with 2 Axes>"
      ]
     },
     "metadata": {},
     "output_type": "display_data"
    },
    {
     "name": "stdout",
     "output_type": "stream",
     "text": [
      "0.44594594594594594\n",
      "Cross validation score:0.6742891712038717\n"
     ]
    }
   ],
   "source": [
    "gb_model = GradientBoostingClassifier(learning_rate=0.1, n_estimators=100, random_state=34)\n",
    "gb_model.fit(X_res, y_res)\n",
    "gb_pred = gb_model.predict(X_test)\n",
    "print(classification_report(y_test,gb_pred))\n",
    "cm = confusion_matrix(y_test,gb_pred)\n",
    "plot_confusion_matrix_with_labels(cm,label_mapping)\n",
    "plt.show\n",
    "print(accuracy_score(y_test, gb_pred))\n",
    "score_cross = cross_val_score(gb_model,X_res,y_res,cv=5).mean()\n",
    "\n",
    "\n",
    "model_cross_score['Gradient_boosting'] = score_cross\n",
    "\n",
    "print(f\"Cross validation score:{model_cross_score['Gradient_boosting']}\")\n",
    "\n",
    "\n",
    "\n",
    "\n"
   ]
  },
  {
   "cell_type": "markdown",
   "metadata": {},
   "source": [
    "#### Extreme Gradient Boosting"
   ]
  },
  {
   "cell_type": "code",
   "execution_count": 134,
   "metadata": {},
   "outputs": [
    {
     "name": "stdout",
     "output_type": "stream",
     "text": [
      "              precision    recall  f1-score   support\n",
      "\n",
      "           0       0.59      0.67      0.63        24\n",
      "           1       0.47      0.53      0.50        15\n",
      "           2       0.20      0.18      0.19        17\n",
      "           3       0.27      0.22      0.24        18\n",
      "\n",
      "    accuracy                           0.42        74\n",
      "   macro avg       0.38      0.40      0.39        74\n",
      "weighted avg       0.40      0.42      0.41        74\n",
      "\n"
     ]
    },
    {
     "data": {
      "image/png": "[encoded data removed]",
      "text/plain": [
       "<Figure size 1000x700 with 2 Axes>"
      ]
     },
     "metadata": {},
     "output_type": "display_data"
    },
    {
     "name": "stdout",
     "output_type": "stream",
     "text": [
      "0.4189189189189189\n",
      "Cross validation score:0.6467634603750756\n"
     ]
    }
   ],
   "source": [
    "xgb_model = XGBClassifier(n_estimators=100, max_depth=4, learning_rate=0.05,colsample_bytree=0.4, subsample=0.8, random_state=34)\n",
    "xgb_model.fit(X_res, y_res)\n",
    "xgb_pred = xgb_model.predict(X_test)\n",
    "print(classification_report(y_test,xgb_pred))\n",
    "cm = confusion_matrix(y_test,xgb_pred)\n",
    "plot_confusion_matrix_with_labels(cm,label_mapping)\n",
    "plt.show\n",
    "print(accuracy_score(y_test, xgb_pred))\n",
    "\n",
    "\n",
    "score_cross = cross_val_score(xgb_model,X_res,y_res,cv=5).mean()\n",
    "\n",
    "\n",
    "print(f\"Cross validation score:{score_cross}\")\n",
    "\n",
    "\n",
    "model_cross_score['XGBoost'] = score_cross"
   ]
  },
  {
   "cell_type": "code",
   "execution_count": 135,
   "metadata": {},
   "outputs": [
    {
     "name": "stdout",
     "output_type": "stream",
     "text": [
      "Numero de Colunas\n",
      "(221, 796)\n",
      "Numero de Colunas com Smote\n",
      "(288, 796)\n",
      "Model                Accuracy\n",
      "------------------------------\n",
      "Extreme Gradient Boosting 0.4189189189189189\n",
      "Random Forest Classifier 0.43243243243243246\n",
      "Gradient Boosting Classifier 0.44594594594594594\n",
      "Extra Trees Classifier 0.4594594594594595\n",
      "Model                          Cross-Validation Score\n",
      "---------------------------------------------\n",
      "Extra Trees                        0.6918\n",
      "Gradient_boosting                  0.6743\n",
      "random_forest                      0.6639\n",
      "XGBoost                            0.6468\n"
     ]
    }
   ],
   "source": [
    "\n",
    "print(\"Numero de Colunas\")\n",
    "print(X_train.shape)\n",
    "print(\"Numero de Colunas com Smote\")\n",
    "print(X_res.shape)\n",
    "\n",
    "\n",
    "# função que compara os modelos, para isso, usa um dicionário {\"Model Name: [predictions], ...\"}\n",
    "def compare_models(Y_test, predictions):\n",
    "    # Create a dictionary of models and their respective accuracies\n",
    "    model_accuracies = {}\n",
    "    for name, prediction in predictions.items():\n",
    "        # Calculate the accuracy for each model\n",
    "        accuracy = sum(prediction == Y_test) / len(Y_test)\n",
    "        # Add the model and its accuracy to the dictionary\n",
    "        model_accuracies[name] = accuracy\n",
    "\n",
    "    # Sort the models by their accuracy in ascending order\n",
    "    sorted_models = sorted(model_accuracies, key=model_accuracies.get)\n",
    "\n",
    "    # Print the table with the accuracy of each model\n",
    "    print(\"Model\".ljust(20), \"Accuracy\")\n",
    "    print(\"-\" * 30)\n",
    "    for model in sorted_models:\n",
    "        print(model.ljust(20), str(model_accuracies[model]).rjust(10))\n",
    "\n",
    "\n",
    "predictions = {\n",
    "    'Random Forest Classifier' : rf_pred,\n",
    "    'Extra Trees Classifier' : et_pred,\n",
    "    'Gradient Boosting Classifier' : gb_pred,\n",
    "    'Extreme Gradient Boosting' : xgb_pred\n",
    "}\n",
    "\n",
    "compare_models(y_test, predictions)\n",
    "\n",
    "\n",
    "def compare_models_cross_score(model_cross_score):\n",
    "    # Sort models by cross-validation score in descending order\n",
    "    sorted_models = sorted(model_cross_score.items(), key=lambda x: x[1], reverse=True)\n",
    "\n",
    "    # Print the table with the cross-validation score of each model\n",
    "    print(\"Model\".ljust(30), \"Cross-Validation Score\")\n",
    "    print(\"-\" * 45)\n",
    "    for model, score in sorted_models:\n",
    "        print(model.ljust(30), f\"{score:.4f}\".rjust(10))\n",
    "\n",
    "\n",
    "\n",
    "compare_models_cross_score(model_cross_score)\n"
   ]
  },
  {
   "cell_type": "code",
   "execution_count": null,
   "metadata": {},
   "outputs": [],
   "source": []
  }
 ],
 "metadata": {
  "kernelspec": {
   "display_name": "Daa312",
   "language": "python",
   "name": "python3"
  },
  "language_info": {
   "codemirror_mode": {
    "name": "ipython",
    "version": 3
   },
   "file_extension": ".py",
   "mimetype": "text/x-python",
   "name": "python",
   "nbconvert_exporter": "python",
   "pygments_lexer": "ipython3",
   "version": "3.12.2"
  }
 },
 "nbformat": 4,
 "nbformat_minor": 2
}
