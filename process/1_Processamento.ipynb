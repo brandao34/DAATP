{
 "cells": [
  {
   "cell_type": "markdown",
   "metadata": {},
   "source": [
    "# IMPORTS"
   ]
  },
  {
   "cell_type": "code",
   "execution_count": 68,
   "metadata": {},
   "outputs": [],
   "source": [
    "from sklearn.ensemble import RandomForestClassifier\n",
    "from sklearn.metrics import classification_report, confusion_matrix\n",
    "from sklearn.metrics import accuracy_score\n",
    "from sklearn.ensemble import RandomForestClassifier\n",
    "import matplotlib.pyplot as plt\n",
    "import matplotlib.pyplot as plt\n",
    "import pandas as pd\n",
    "import numpy as np\n",
    "from sklearn.model_selection import GridSearchCV, train_test_split\n",
    "import seaborn as sns\n",
    "from sklearn.model_selection import train_test_split\n",
    "from sklearn.model_selection import cross_val_predict\n",
    "from sklearn.model_selection import cross_val_score\n",
    "import matplotlib.pyplot as plt\n",
    "import seaborn as sns\n",
    "from sklearn.metrics import confusion_matrix\n",
    "from xgboost import XGBClassifier\n",
    "from sklearn.ensemble import RandomForestClassifier\n",
    "from sklearn.metrics import classification_report, confusion_matrix\n",
    "import seaborn as sns\n",
    "import matplotlib.pyplot as plt\n",
    "from sklearn.ensemble import ExtraTreesClassifier\n",
    "from sklearn.ensemble import GradientBoostingClassifier\n",
    "from sklearn.neighbors import KNeighborsClassifier"
   ]
  },
  {
   "cell_type": "markdown",
   "metadata": {},
   "source": [
    "## LEITURA DOS DADOS"
   ]
  },
  {
   "cell_type": "code",
   "execution_count": 69,
   "metadata": {},
   "outputs": [
    {
     "name": "stdout",
     "output_type": "stream",
     "text": [
      "Shape of df: (305, 2181)\n",
      "Shape of df_test: (100, 2180)\n"
     ]
    }
   ],
   "source": [
    "df = pd.read_csv('../RawData/train_radiomics_hipocamp.csv') \n",
    "df_test = pd.read_csv('../RawData/test_radiomics_hipocamp.csv')\n",
    "\n",
    "print(f\"Shape of df: {df.shape}\")\n",
    "print(f\"Shape of df_test: {df_test.shape}\")\n"
   ]
  },
  {
   "cell_type": "markdown",
   "metadata": {},
   "source": [
    "# Tratamento"
   ]
  },
  {
   "cell_type": "markdown",
   "metadata": {},
   "source": [
    "### Single Value Colums "
   ]
  },
  {
   "cell_type": "code",
   "execution_count": 70,
   "metadata": {},
   "outputs": [
    {
     "name": "stdout",
     "output_type": "stream",
     "text": [
      "Coluna: original_firstorder_10Percentile, Valores Unicos : 31\n",
      "Coluna: original_firstorder_90Percentile, Valores Unicos : 13\n",
      "Coluna: original_firstorder_InterquartileRange, Valores Unicos : 13\n",
      "Coluna: original_firstorder_Maximum, Valores Unicos : 29\n",
      "Coluna: original_firstorder_Median, Valores Unicos : 15\n",
      "Coluna: original_firstorder_Minimum, Valores Unicos : 30\n",
      "Coluna: original_firstorder_Range, Valores Unicos : 45\n",
      "Coluna: wavelet-HHH_glszm_GrayLevelNonUniformityNormalized, Valores Unicos : 33\n",
      "Coluna: wavelet-HHH_glszm_GrayLevelVariance, Valores Unicos : 34\n",
      "Coluna: gradient_firstorder_Minimum, Valores Unicos : 3\n",
      "Coluna: lbp-2D_firstorder_10Percentile, Valores Unicos : 4\n",
      "Coluna: lbp-2D_firstorder_90Percentile, Valores Unicos : 2\n",
      "Coluna: lbp-2D_firstorder_InterquartileRange, Valores Unicos : 3\n",
      "Coluna: lbp-2D_firstorder_Median, Valores Unicos : 2\n",
      "Coluna: lbp-3D-m1_firstorder_10Percentile, Valores Unicos : 10\n",
      "Coluna: lbp-3D-m1_firstorder_90Percentile, Valores Unicos : 12\n",
      "Coluna: lbp-3D-m1_firstorder_InterquartileRange, Valores Unicos : 13\n",
      "Coluna: lbp-3D-m1_firstorder_Median, Valores Unicos : 3\n",
      "Coluna: lbp-3D-m2_firstorder_Maximum, Valores Unicos : 27\n",
      "Coluna: lbp-3D-m2_firstorder_Range, Valores Unicos : 27\n",
      "Coluna: Sex, Valores Unicos : 2\n",
      "Coluna: Transition, Valores Unicos : 5\n"
     ]
    }
   ],
   "source": [
    "df = df.loc[:, df.nunique() > 1]\n",
    "df_test = df_test.loc[:, df_test.nunique() > 1]\n",
    "\n",
    "\n",
    "#  Analise das colunas que tem menos de 50 valores unicos \n",
    "n = df.nunique()\n",
    "for col, e in n.items():\n",
    "    if e < 50:  \n",
    "        print(f\"Coluna: {col}, Valores Unicos : {e}\")\n",
    "\n"
   ]
  },
  {
   "cell_type": "markdown",
   "metadata": {},
   "source": [
    "### AGE BINING  ( secalhar isto era no 2 )"
   ]
  },
  {
   "cell_type": "code",
   "execution_count": 71,
   "metadata": {},
   "outputs": [],
   "source": [
    "\n",
    "age_bins = [0, 65, 75, 85, 100]\n",
    "# BINS_SIZER = ['<65', '65-74', '75-84', '85+']\n",
    "age_labels = [60, 70, 80, 90] # VALOR MEDIO DO BIN \n",
    "df['Age'] = pd.cut(df['Age'], bins=age_bins, labels=age_labels).astype(int)\n",
    "df_test['Age'] = pd.cut(df_test['Age'], bins=age_bins, labels=age_labels).astype(int)\n",
    "\n"
   ]
  },
  {
   "cell_type": "markdown",
   "metadata": {},
   "source": [
    "### Colunas Categoricas "
   ]
  },
  {
   "cell_type": "code",
   "execution_count": 72,
   "metadata": {},
   "outputs": [
    {
     "name": "stdout",
     "output_type": "stream",
     "text": [
      "\n",
      "Coluna: ID\n",
      "\n",
      "Coluna: Image\n",
      "\n",
      "Coluna: Mask\n",
      "\n",
      "Coluna: diagnostics_Image-original_Hash\n",
      "\n",
      "Coluna: diagnostics_Mask-original_Hash\n",
      "\n",
      "Coluna: diagnostics_Mask-original_BoundingBox\n",
      "\n",
      "Coluna: diagnostics_Mask-original_CenterOfMassIndex\n",
      "\n",
      "Coluna: diagnostics_Mask-original_CenterOfMass\n",
      "\n",
      "Coluna: Transition\n"
     ]
    }
   ],
   "source": [
    "# Analisar a contagem de valores únicos para cada coluna categórica\n",
    "\n",
    "# Identificar as colunas categóricas\n",
    "categorical_columns = df.select_dtypes(include=['object', 'category']).columns\n",
    "\n",
    "for col in categorical_columns:\n",
    "    print(f\"\\nColuna: {col}\")\n",
    "\n",
    "#colunas_catagoricas_a_remover = ['ID', 'Image', 'Mask', 'diagnostics_Image-original_Hash', 'diagnostics_Mask-original_Hash'] \n",
    "\n",
    "colunas_catagoricas_a_remover = ['ID', 'Image', 'Mask', 'diagnostics_Image-original_Hash', 'diagnostics_Mask-original_Hash', 'diagnostics_Mask-original_BoundingBox', 'diagnostics_Mask-original_CenterOfMassIndex', 'diagnostics_Mask-original_CenterOfMass'] \n",
    "\n",
    "# ** Bounding Box\n",
    "#\n",
    "# ** as colunas do 'diagnostics_Mask-original_BoundingBox', 'diagnostics_Mask-original_CenterOfMassIndex', 'diagnostics_Mask-original_CenterOfMass'\n",
    "# ** Deveriam ser retiradas, mas o bounding box pode ser importante para a zona de maior ativação do Alzimeir \n",
    "# **  ja a de centro de maxima devem ser muito correlacionados, por isso devem ser retirados mais para a frente \n",
    "# *TODO acabei por retirar para correr melhor os modelos, mas analisar se se deve retirar ou nao \n",
    "\n",
    "df.drop(columns=colunas_catagoricas_a_remover,axis= 1 , inplace= True)\n",
    "df_test.drop(columns=colunas_catagoricas_a_remover,axis= 1 , inplace= True)"
   ]
  },
  {
   "cell_type": "markdown",
   "metadata": {},
   "source": [
    "### Eliminar Transition CN-MCI && Label_Mapping\n",
    "\n",
    "Como este tipo de precisao não vai ser realiza, decidimos retirar todas as linhas com ela relacinadas para nao confundir o nosso modelo"
   ]
  },
  {
   "cell_type": "code",
   "execution_count": 73,
   "metadata": {},
   "outputs": [],
   "source": [
    "df = df[df['Transition'] != 'CN-MCI']\n",
    "\n",
    "\n",
    "label_mapping = {\n",
    "    'CN-CN': 0,\n",
    "    'AD-AD': 1,\n",
    "    'MCI-AD': 2,\n",
    "    'MCI-MCI': 3,\n",
    "#    'CN-MCI' : 4\n",
    "}\n",
    "# Apply the mapping to the target column\n",
    "df['Transition'] = df['Transition'].map(label_mapping)\n"
   ]
  },
  {
   "cell_type": "markdown",
   "metadata": {},
   "source": [
    "## Correlacao com target "
   ]
  },
  {
   "cell_type": "code",
   "execution_count": 74,
   "metadata": {},
   "outputs": [
    {
     "name": "stdout",
     "output_type": "stream",
     "text": [
      "(295, 2014)\n",
      "(295, 1521)\n"
     ]
    }
   ],
   "source": [
    "def remove_highly_correlated_with_target(data, target_column, threshold):\n",
    "    # Compute the correlation of each column with the target column\n",
    "    corr_with_target = data.corr()[target_column].abs()\n",
    "    \n",
    "    # Identify columns to remove based on correlation with the target\n",
    "    to_drop = corr_with_target[corr_with_target >= threshold].index\n",
    "    to_drop = to_drop.drop(target_column)  # Remove target column itself if included\n",
    "    \n",
    "    # Drop the identified columns\n",
    "    data_final = data.drop(columns=to_drop)\n",
    "\n",
    "    return data_final\n",
    "print(df.shape)\n",
    "df = remove_highly_correlated_with_target(df, 'Transition',threshold=0.16)\n",
    "print(df.shape)\n"
   ]
  },
  {
   "cell_type": "markdown",
   "metadata": {},
   "source": [
    "## Desvio Padrao "
   ]
  },
  {
   "cell_type": "code",
   "execution_count": 75,
   "metadata": {},
   "outputs": [
    {
     "name": "stdout",
     "output_type": "stream",
     "text": [
      "(295, 1521)\n",
      "(295, 1521)\n"
     ]
    }
   ],
   "source": [
    "from sklearn.feature_selection import VarianceThreshold\n",
    "\n",
    "\n",
    "def remove_low_variance_features(data, threshold=0.01):\n",
    "    # Remove low variance features\n",
    "    selector = VarianceThreshold(threshold=threshold)\n",
    "    low_variance_data = selector.fit_transform(data.select_dtypes(include=['float64', 'int64']))\n",
    "\n",
    "    # Get the columns to keep\n",
    "    retained_columns = data.select_dtypes(include=['float64', 'int64']).columns[selector.get_support(indices=True)]\n",
    "\n",
    "    # Create a DataFrame with the retained columns\n",
    "    data_reduced = pd.DataFrame(low_variance_data, columns=retained_columns)\n",
    "\n",
    "    return data_reduced\n",
    "print(df.shape)\n",
    "#df = remove_low_variance_features(df)\n",
    "print(df.shape)\n"
   ]
  },
  {
   "cell_type": "markdown",
   "metadata": {},
   "source": [
    "## Correlacao colunas"
   ]
  },
  {
   "cell_type": "code",
   "execution_count": 76,
   "metadata": {},
   "outputs": [],
   "source": [
    "def remove_highly_correlated_features(data, threshold=0.9):\n",
    "    # Compute the correlation matrix\n",
    "    corr_matrix = data.corr().abs()\n",
    "\n",
    "    # Identify columns to remove based on correlation\n",
    "    to_drop = set()\n",
    "    for i in range(len(corr_matrix.columns)):\n",
    "        for j in range(i + 1, len(corr_matrix.columns)):\n",
    "            if corr_matrix.iloc[i, j] >= threshold:\n",
    "                to_drop.add(corr_matrix.columns[j])\n",
    "\n",
    "    # Drop the identified columns\n",
    "    data_final = data.drop(columns=to_drop)\n",
    "\n",
    "    return data_final"
   ]
  },
  {
   "cell_type": "markdown",
   "metadata": {},
   "source": [
    "## Models"
   ]
  },
  {
   "cell_type": "code",
   "execution_count": 77,
   "metadata": {},
   "outputs": [],
   "source": [
    "\n",
    "#experiment = setup(df, target='Transition')"
   ]
  },
  {
   "cell_type": "code",
   "execution_count": 78,
   "metadata": {},
   "outputs": [],
   "source": [
    "#best = compare_models()"
   ]
  },
  {
   "cell_type": "markdown",
   "metadata": {},
   "source": [
    "Com o tratamento atual, o pycaret diz que os melhores modelos são :\n",
    "- Random Forest Classifier\n",
    "- Extra Trees Classifier\n",
    "- Gradient Boosting Classifier \n",
    "- K Neighbors Classifier\n",
    "- Extreme Gradient Boosting \n"
   ]
  },
  {
   "cell_type": "markdown",
   "metadata": {},
   "source": [
    "### Aplicação dos modelos (default) ao dataset tratado"
   ]
  },
  {
   "cell_type": "code",
   "execution_count": 79,
   "metadata": {},
   "outputs": [],
   "source": [
    "from imblearn.over_sampling import SMOTE\n"
   ]
  },
  {
   "cell_type": "code",
   "execution_count": 80,
   "metadata": {},
   "outputs": [],
   "source": [
    "#X = df.drop('Transition', axis=1)\n",
    "#y = df['Transition']\n",
    "#print(X.shape)\n",
    "#print(y.shape)\n",
    "#\n",
    "#smote = SMOTE(sampling_strategy=\"auto\", random_state=34)\n",
    "#X_res, y_res = smote.fit_resample(X, y)\n",
    "#print('Resampled dataset shape %s %s' % X_res.shape,y_res.shape)\n",
    "#print(\"Y Smote Values:\")\n",
    "#y_res.value_counts()"
   ]
  },
  {
   "cell_type": "code",
   "execution_count": 81,
   "metadata": {},
   "outputs": [
    {
     "name": "stdout",
     "output_type": "stream",
     "text": [
      "X:\n",
      "   diagnostics_Image-original_Mean  diagnostics_Image-original_Maximum  \\\n",
      "0                         5.848123                                 178   \n",
      "1                         5.238834                                 190   \n",
      "2                         6.816667                                 155   \n",
      "4                         5.568269                                 150   \n",
      "5                         5.359231                                 157   \n",
      "\n",
      "   original_shape_Elongation  original_shape_Flatness  \\\n",
      "0                   0.420040                 0.106547   \n",
      "1                   0.425482                 0.102532   \n",
      "2                   0.447685                 0.135582   \n",
      "4                   0.411851                 0.080719   \n",
      "5                   0.421088                 0.107766   \n",
      "\n",
      "   original_shape_LeastAxisLength  original_shape_MajorAxisLength  \\\n",
      "0                       10.757474                      100.964915   \n",
      "1                       10.432362                      101.747321   \n",
      "2                       14.370911                      105.993915   \n",
      "4                        8.885188                      110.075144   \n",
      "5                        9.975616                       92.567805   \n",
      "\n",
      "   original_shape_Maximum2DDiameterColumn  \\\n",
      "0                               72.034714   \n",
      "1                               73.246160   \n",
      "2                               79.762146   \n",
      "4                               75.432089   \n",
      "5                               67.119297   \n",
      "\n",
      "   original_shape_Maximum2DDiameterRow  original_shape_Maximum2DDiameterSlice  \\\n",
      "0                            71.175839                              43.416587   \n",
      "1                            73.109507                              44.102154   \n",
      "2                            79.056942                              47.853944   \n",
      "4                            75.239617                              43.462628   \n",
      "5                            67.119297                              38.418745   \n",
      "\n",
      "   original_shape_Maximum3DDiameter  ...  lbp-3D-k_glszm_ZoneEntropy  \\\n",
      "0                         72.034714  ...                    3.021791   \n",
      "1                         73.252986  ...                    2.533247   \n",
      "2                         81.154174  ...                    2.718587   \n",
      "4                         75.848533  ...                    3.073515   \n",
      "5                         67.668309  ...                    2.835172   \n",
      "\n",
      "   lbp-3D-k_glszm_ZonePercentage  lbp-3D-k_glszm_ZoneVariance  \\\n",
      "0                       0.007881                345733.167092   \n",
      "1                       0.013112                244310.331892   \n",
      "2                       0.011331                222776.529605   \n",
      "4                       0.010859                216779.591479   \n",
      "5                       0.008991                253341.797793   \n",
      "\n",
      "   lbp-3D-k_ngtdm_Busyness  lbp-3D-k_ngtdm_Coarseness  \\\n",
      "0               479.414935                   0.001538   \n",
      "1               378.001763                   0.001761   \n",
      "2               497.261162                   0.001567   \n",
      "4               368.838125                   0.001912   \n",
      "5               368.541399                   0.001957   \n",
      "\n",
      "   lbp-3D-k_ngtdm_Complexity  lbp-3D-k_ngtdm_Contrast  \\\n",
      "0                   0.183049                 0.017044   \n",
      "1                   0.146021                 0.010782   \n",
      "2                   0.190309                 0.019644   \n",
      "4                   0.174701                 0.014793   \n",
      "5                   0.173331                 0.015514   \n",
      "\n",
      "   lbp-3D-k_ngtdm_Strength  Sex  Age  \n",
      "0                 0.001581    0   80  \n",
      "1                 0.001813    1   80  \n",
      "2                 0.001596    1   80  \n",
      "4                 0.001979    0   80  \n",
      "5                 0.002008    0   70  \n",
      "\n",
      "[5 rows x 1520 columns]\n",
      "X Shape: (295, 1520)\n",
      "X_test shape: (74, 1520)\n",
      "Resampled dataset shape: (288, 1520) (288,)\n",
      "Y Smote Values:\n",
      "Transition\n",
      "3    72\n",
      "0    72\n",
      "1    72\n",
      "2    72\n",
      "Name: count, dtype: int64\n"
     ]
    }
   ],
   "source": [
    "from sklearn.model_selection import train_test_split\n",
    "from imblearn.over_sampling import SMOTE\n",
    "\n",
    "# Separar as features e o target\n",
    "X = df.drop('Transition', axis=1)\n",
    "y = df['Transition']\n",
    "\n",
    "# Exibir as primeiras linhas e a forma de X\n",
    "print(\"X:\")\n",
    "print(X.head())\n",
    "print(\"X Shape:\", X.shape)\n",
    "\n",
    "# Dividir o conjunto de dados em treino e teste com estratificação\n",
    "X_train, X_test, y_train, y_test = train_test_split(X, y, test_size=0.25, random_state=34, stratify=y)\n",
    "\n",
    "\n",
    "# Exibir a forma do conjunto de teste\n",
    "print(\"X_test shape:\", X_test.shape)\n",
    "\n",
    "# Aplicar o SMOTE no conjunto de treino\n",
    "smote = SMOTE(sampling_strategy=\"auto\", random_state=34)\n",
    "X_res, y_res = smote.fit_resample(X_train, y_train)\n",
    "\n",
    "# Exibir as formas dos conjuntos de dados após o SMOTE\n",
    "print(\"Resampled dataset shape:\", X_res.shape, y_res.shape)\n",
    "\n",
    "# Exibir a contagem de amostras por classe após o SMOTE\n",
    "print(\"Y Smote Values:\")\n",
    "print(y_res.value_counts())\n",
    "\n",
    "# Inicializar dicionário para armazenar as pontuações de cross-validation do modelo\n",
    "model_cross_score = {}\n"
   ]
  },
  {
   "cell_type": "code",
   "execution_count": 82,
   "metadata": {},
   "outputs": [
    {
     "name": "stdout",
     "output_type": "stream",
     "text": [
      "Y Train Values:\n",
      "Y Res Values\n"
     ]
    },
    {
     "data": {
      "text/plain": [
       "Transition\n",
       "3    72\n",
       "0    72\n",
       "1    72\n",
       "2    72\n",
       "Name: count, dtype: int64"
      ]
     },
     "execution_count": 82,
     "metadata": {},
     "output_type": "execute_result"
    }
   ],
   "source": [
    "print(\"Y Train Values:\")\n",
    "y_train.value_counts()\n",
    "\n",
    "print(\"Y Res Values\")\n",
    "y_res.value_counts()"
   ]
  },
  {
   "cell_type": "markdown",
   "metadata": {},
   "source": [
    "### SMOTE"
   ]
  },
  {
   "cell_type": "code",
   "execution_count": 83,
   "metadata": {},
   "outputs": [],
   "source": [
    "def plot_confusion_matrix_with_labels(confusion_matrix, label_mapping):\n",
    "    # Criar um mapeamento inverso\n",
    "    reverse_label_mapping = {v: k for k, v in label_mapping.items()}\n",
    "    \n",
    "    # Aplicar o mapeamento inverso na matriz de confusão\n",
    "    cm_with_labels = np.zeros_like(confusion_matrix, dtype=object)\n",
    "    for i in range(confusion_matrix.shape[0]):\n",
    "        for j in range(confusion_matrix.shape[1]):\n",
    "            cm_with_labels[i, j] = f\"{reverse_label_mapping[i]} (Pred: {reverse_label_mapping[j]})\"\n",
    "\n",
    "    # Criar um DataFrame para facilitar a visualização\n",
    "    df_cm = pd.DataFrame(confusion_matrix, index=reverse_label_mapping.values(), columns=reverse_label_mapping.values())\n",
    "    \n",
    "    # Plotar a matriz de confusão\n",
    "    plt.figure(figsize=(10, 7))\n",
    "    sns.heatmap(df_cm, annot=True, fmt=\"d\", cmap=\"Blues\")\n",
    "    plt.xlabel('Predicted')\n",
    "    plt.ylabel('True')\n",
    "    plt.title('Confusion Matrix with Labels')\n",
    "    plt.show()"
   ]
  },
  {
   "cell_type": "markdown",
   "metadata": {},
   "source": [
    "#### Random Forest Classifier"
   ]
  },
  {
   "cell_type": "code",
   "execution_count": 84,
   "metadata": {},
   "outputs": [
    {
     "name": "stdout",
     "output_type": "stream",
     "text": [
      "              precision    recall  f1-score   support\n",
      "\n",
      "           0       0.57      0.71      0.63        24\n",
      "           1       0.61      0.73      0.67        15\n",
      "           2       0.23      0.18      0.20        17\n",
      "           3       0.46      0.33      0.39        18\n",
      "\n",
      "    accuracy                           0.50        74\n",
      "   macro avg       0.47      0.49      0.47        74\n",
      "weighted avg       0.47      0.50      0.48        74\n",
      "\n"
     ]
    },
    {
     "data": {
      "image/png": "[encoded data removed]",
      "text/plain": [
       "<Figure size 1000x700 with 2 Axes>"
      ]
     },
     "metadata": {},
     "output_type": "display_data"
    }
   ],
   "source": [
    "\n",
    "rf_model = RandomForestClassifier(n_estimators=100, max_features='sqrt', random_state=34)\n",
    "\n",
    "rf_model.fit(X_res, y_res)\n",
    "\n",
    "\n",
    "rf_pred = rf_model.predict(X_test)\n",
    "print(classification_report(y_test, rf_pred))\n",
    "cm = confusion_matrix(y_test, rf_pred)\n",
    "plot_confusion_matrix_with_labels(cm,label_mapping)\n",
    "\n",
    "model_cross_score['random_forest'] = cross_val_score(rf_model, X_res, y_res, cv=5).mean()\n",
    "\n",
    "\n"
   ]
  },
  {
   "cell_type": "markdown",
   "metadata": {},
   "source": [
    "#### Extra Trees Classifier"
   ]
  },
  {
   "cell_type": "code",
   "execution_count": 85,
   "metadata": {},
   "outputs": [
    {
     "name": "stdout",
     "output_type": "stream",
     "text": [
      "              precision    recall  f1-score   support\n",
      "\n",
      "           0       0.48      0.62      0.55        24\n",
      "           1       0.41      0.47      0.44        15\n",
      "           2       0.07      0.06      0.06        17\n",
      "           3       0.36      0.22      0.28        18\n",
      "\n",
      "    accuracy                           0.36        74\n",
      "   macro avg       0.33      0.34      0.33        74\n",
      "weighted avg       0.34      0.36      0.35        74\n",
      "\n"
     ]
    },
    {
     "data": {
      "image/png": "[encoded data removed]",
      "text/plain": [
       "<Figure size 1000x700 with 2 Axes>"
      ]
     },
     "metadata": {},
     "output_type": "display_data"
    },
    {
     "name": "stdout",
     "output_type": "stream",
     "text": [
      "0.36486486486486486\n",
      "0.6710223835450696\n"
     ]
    }
   ],
   "source": [
    "et_model = ExtraTreesClassifier(criterion='gini', max_depth=20, random_state=34)\n",
    "et_model.fit(X_res, y_res)\n",
    "et_pred = et_model.predict(X_test)\n",
    "print(classification_report(y_test,et_pred))\n",
    "cm = confusion_matrix(y_test,et_pred)\n",
    "plot_confusion_matrix_with_labels(cm, label_mapping)\n",
    "plt.show\n",
    "print(accuracy_score(y_test, et_pred))\n",
    "print(cross_val_score(et_model,X_res,y_res,cv=5).mean())\n",
    "\n",
    "model_cross_score['Extra Trees'] = cross_val_score(et_model, X_res, y_res, cv=5).mean()\n"
   ]
  },
  {
   "cell_type": "markdown",
   "metadata": {},
   "source": [
    "#### Gradient Boosting Classifier "
   ]
  },
  {
   "cell_type": "code",
   "execution_count": 86,
   "metadata": {},
   "outputs": [
    {
     "name": "stdout",
     "output_type": "stream",
     "text": [
      "              precision    recall  f1-score   support\n",
      "\n",
      "           0       0.55      0.67      0.60        24\n",
      "           1       0.50      0.53      0.52        15\n",
      "           2       0.33      0.24      0.28        17\n",
      "           3       0.24      0.22      0.23        18\n",
      "\n",
      "    accuracy                           0.43        74\n",
      "   macro avg       0.41      0.41      0.41        74\n",
      "weighted avg       0.41      0.43      0.42        74\n",
      "\n"
     ]
    },
    {
     "data": {
      "image/png": "[encoded data removed]",
      "text/plain": [
       "<Figure size 1000x700 with 2 Axes>"
      ]
     },
     "metadata": {},
     "output_type": "display_data"
    },
    {
     "name": "stdout",
     "output_type": "stream",
     "text": [
      "0.43243243243243246\n",
      "0.6225650332728373\n"
     ]
    }
   ],
   "source": [
    "gb_model = GradientBoostingClassifier(learning_rate=0.1, n_estimators=100, random_state=34)\n",
    "gb_model.fit(X_res, y_res)\n",
    "gb_pred = gb_model.predict(X_test)\n",
    "print(classification_report(y_test,gb_pred))\n",
    "cm = confusion_matrix(y_test,gb_pred)\n",
    "plot_confusion_matrix_with_labels(cm,label_mapping)\n",
    "plt.show\n",
    "print(accuracy_score(y_test, gb_pred))\n",
    "score_cross = cross_val_score(gb_model,X_res,y_res,cv=5).mean()\n",
    "\n",
    "print(score_cross)\n",
    "\n",
    "model_cross_score['Gradient_boosting'] = score_cross\n"
   ]
  },
  {
   "cell_type": "markdown",
   "metadata": {},
   "source": [
    "#### Extreme Gradient Boosting"
   ]
  },
  {
   "cell_type": "code",
   "execution_count": 87,
   "metadata": {},
   "outputs": [
    {
     "name": "stdout",
     "output_type": "stream",
     "text": [
      "              precision    recall  f1-score   support\n",
      "\n",
      "           0       0.56      0.75      0.64        24\n",
      "           1       0.58      0.47      0.52        15\n",
      "           2       0.36      0.29      0.32        17\n",
      "           3       0.31      0.28      0.29        18\n",
      "\n",
      "    accuracy                           0.47        74\n",
      "   macro avg       0.45      0.45      0.44        74\n",
      "weighted avg       0.46      0.47      0.46        74\n",
      "\n"
     ]
    },
    {
     "data": {
      "image/png": "[encoded data removed]",
      "text/plain": [
       "<Figure size 1000x700 with 2 Axes>"
      ]
     },
     "metadata": {},
     "output_type": "display_data"
    },
    {
     "name": "stdout",
     "output_type": "stream",
     "text": [
      "0.47297297297297297\n",
      "0.6503932244404115\n"
     ]
    }
   ],
   "source": [
    "xgb_model = XGBClassifier(n_estimators=100, max_depth=4, learning_rate=0.05,colsample_bytree=0.4, subsample=0.8, random_state=34)\n",
    "xgb_model.fit(X_res, y_res)\n",
    "xgb_pred = xgb_model.predict(X_test)\n",
    "print(classification_report(y_test,xgb_pred))\n",
    "cm = confusion_matrix(y_test,xgb_pred)\n",
    "plot_confusion_matrix_with_labels(cm,label_mapping)\n",
    "plt.show\n",
    "print(accuracy_score(y_test, xgb_pred))\n",
    "\n",
    "\n",
    "score_cross = cross_val_score(xgb_model,X_res,y_res,cv=5).mean()\n",
    "\n",
    "print(score_cross)\n",
    "\n",
    "model_cross_score['XGBoost'] = score_cross"
   ]
  },
  {
   "cell_type": "code",
   "execution_count": 88,
   "metadata": {},
   "outputs": [
    {
     "name": "stdout",
     "output_type": "stream",
     "text": [
      "Numero de Colunas\n",
      "(221, 1520)\n",
      "Numero de Colunas com Smote\n",
      "(288, 1520)\n",
      "Model                Accuracy\n",
      "------------------------------\n",
      "Extra Trees Classifier 0.36486486486486486\n",
      "Gradient Boosting Classifier 0.43243243243243246\n",
      "Extreme Gradient Boosting 0.47297297297297297\n",
      "Random Forest Classifier        0.5\n",
      "Model                          Cross-Validation Score\n",
      "---------------------------------------------\n",
      "Extra Trees                        0.6710\n",
      "XGBoost                            0.6504\n",
      "random_forest                      0.6327\n",
      "Gradient_boosting                  0.6226\n"
     ]
    }
   ],
   "source": [
    "\n",
    "print(\"Numero de Colunas\")\n",
    "print(X_train.shape)\n",
    "print(\"Numero de Colunas com Smote\")\n",
    "print(X_res.shape)\n",
    "\n",
    "\n",
    "# função que compara os modelos, para isso, usa um dicionário {\"Model Name: [predictions], ...\"}\n",
    "def compare_models(Y_test, predictions):\n",
    "    # Create a dictionary of models and their respective accuracies\n",
    "    model_accuracies = {}\n",
    "    for name, prediction in predictions.items():\n",
    "        # Calculate the accuracy for each model\n",
    "        accuracy = sum(prediction == Y_test) / len(Y_test)\n",
    "        # Add the model and its accuracy to the dictionary\n",
    "        model_accuracies[name] = accuracy\n",
    "\n",
    "    # Sort the models by their accuracy in ascending order\n",
    "    sorted_models = sorted(model_accuracies, key=model_accuracies.get)\n",
    "\n",
    "    # Print the table with the accuracy of each model\n",
    "    print(\"Model\".ljust(20), \"Accuracy\")\n",
    "    print(\"-\" * 30)\n",
    "    for model in sorted_models:\n",
    "        print(model.ljust(20), str(model_accuracies[model]).rjust(10))\n",
    "\n",
    "\n",
    "predictions = {\n",
    "    'Random Forest Classifier' : rf_pred,\n",
    "    'Extra Trees Classifier' : et_pred,\n",
    "    'Gradient Boosting Classifier' : gb_pred,\n",
    "    'Extreme Gradient Boosting' : xgb_pred\n",
    "}\n",
    "\n",
    "compare_models(y_test, predictions)\n",
    "\n",
    "\n",
    "def compare_models_cross_score(model_cross_score):\n",
    "    # Sort models by cross-validation score in descending order\n",
    "    sorted_models = sorted(model_cross_score.items(), key=lambda x: x[1], reverse=True)\n",
    "\n",
    "    # Print the table with the cross-validation score of each model\n",
    "    print(\"Model\".ljust(30), \"Cross-Validation Score\")\n",
    "    print(\"-\" * 45)\n",
    "    for model, score in sorted_models:\n",
    "        print(model.ljust(30), f\"{score:.4f}\".rjust(10))\n",
    "\n",
    "\n",
    "\n",
    "compare_models_cross_score(model_cross_score)\n"
   ]
  },
  {
   "cell_type": "code",
   "execution_count": null,
   "metadata": {},
   "outputs": [],
   "source": []
  }
 ],
 "metadata": {
  "kernelspec": {
   "display_name": "Daa312",
   "language": "python",
   "name": "python3"
  },
  "language_info": {
   "codemirror_mode": {
    "name": "ipython",
    "version": 3
   },
   "file_extension": ".py",
   "mimetype": "text/x-python",
   "name": "python",
   "nbconvert_exporter": "python",
   "pygments_lexer": "ipython3",
   "version": "3.12.2"
  }
 },
 "nbformat": 4,
 "nbformat_minor": 2
}
