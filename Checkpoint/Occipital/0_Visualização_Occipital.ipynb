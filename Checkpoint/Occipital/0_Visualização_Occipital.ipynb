{
 "cells": [
  {
   "cell_type": "markdown",
   "metadata": {},
   "source": [
    "# Imports"
   ]
  },
  {
   "cell_type": "code",
   "execution_count": 10,
   "metadata": {},
   "outputs": [],
   "source": [
    "from sklearn.ensemble import RandomForestClassifier\n",
    "from sklearn.metrics import classification_report, confusion_matrix\n",
    "from sklearn.metrics import accuracy_score\n",
    "from sklearn.ensemble import RandomForestClassifier\n",
    "import matplotlib.pyplot as plt\n",
    "import matplotlib.pyplot as plt\n",
    "import pandas as pd\n",
    "import numpy as np\n",
    "from sklearn.model_selection import GridSearchCV, train_test_split\n",
    "import seaborn as sns\n",
    "from sklearn.model_selection import train_test_split\n",
    "from sklearn.model_selection import cross_val_predict\n",
    "from sklearn.model_selection import cross_val_score\n",
    "import matplotlib.pyplot as plt\n",
    "import seaborn as sns\n",
    "from sklearn.metrics import confusion_matrix\n",
    "from xgboost import XGBClassifier\n",
    "from sklearn.ensemble import RandomForestClassifier\n",
    "from sklearn.metrics import classification_report, confusion_matrix\n",
    "import seaborn as sns\n",
    "import matplotlib.pyplot as plt\n",
    "from sklearn.ensemble import ExtraTreesClassifier\n",
    "from sklearn.ensemble import GradientBoostingClassifier\n",
    "from sklearn.neighbors import KNeighborsClassifier"
   ]
  },
  {
   "cell_type": "markdown",
   "metadata": {},
   "source": [
    "# Leitura dos Dados "
   ]
  },
  {
   "cell_type": "code",
   "execution_count": 11,
   "metadata": {},
   "outputs": [],
   "source": [
    "df = pd.read_csv('../../RawData/train_radiomics_occipital_CONTROL.csv') \n",
    "x_train = df.drop(columns=['Transition'])\n",
    "\n"
   ]
  },
  {
   "cell_type": "markdown",
   "metadata": {},
   "source": [
    "# Analise dos Dados"
   ]
  },
  {
   "cell_type": "markdown",
   "metadata": {},
   "source": [
    "## Null Values"
   ]
  },
  {
   "cell_type": "code",
   "execution_count": 12,
   "metadata": {},
   "outputs": [
    {
     "name": "stdout",
     "output_type": "stream",
     "text": [
      "Total: 0\n"
     ]
    }
   ],
   "source": [
    "#heat = sns.heatmap(df.isnull(), yticklabels=False, cbar=False, cmap='viridis')\n",
    "nullsum = df.isnull().sum()\n",
    "for nullsum1 in  nullsum:\n",
    "    total = 0 \n",
    "    total += nullsum1\n",
    "print(\"Total:\", total)\n",
    "\n",
    "#O DATASET NÂO APRESENTA NULL VALUES    "
   ]
  },
  {
   "cell_type": "markdown",
   "metadata": {},
   "source": [
    "## Valores Duplicados "
   ]
  },
  {
   "cell_type": "code",
   "execution_count": 13,
   "metadata": {},
   "outputs": [
    {
     "name": "stdout",
     "output_type": "stream",
     "text": [
      "Total de linhas duplicadas: 0\n"
     ]
    }
   ],
   "source": [
    "total_duplicates = df.duplicated().sum()\n",
    "    \n",
    "# Exibe o total de duplicados\n",
    "print(f\"Total de linhas duplicadas: {total_duplicates}\")\n",
    "\n",
    "# Não há duplicados "
   ]
  },
  {
   "cell_type": "markdown",
   "metadata": {},
   "source": [
    "## Missing Values "
   ]
  },
  {
   "cell_type": "code",
   "execution_count": 14,
   "metadata": {},
   "outputs": [
    {
     "name": "stdout",
     "output_type": "stream",
     "text": [
      "Toal de valores duplicados: ID                                  0\n",
      "Image                               0\n",
      "Mask                                0\n",
      "diagnostics_Versions_PyRadiomics    0\n",
      "diagnostics_Versions_Numpy          0\n",
      "                                   ..\n",
      "lbp-3D-k_ngtdm_Contrast             0\n",
      "lbp-3D-k_ngtdm_Strength             0\n",
      "Sex                                 0\n",
      "Age                                 0\n",
      "Transition                          0\n",
      "Length: 2181, dtype: int64\n"
     ]
    }
   ],
   "source": [
    "missing_data = df.isna().sum()\n",
    "#print(missing_data[missing_data > 0])\n",
    "print(f\"Toal de valores duplicados: {missing_data}\")\n",
    "\n",
    "# Não há missing Values"
   ]
  },
  {
   "cell_type": "markdown",
   "metadata": {},
   "source": [
    "## Analise do Target"
   ]
  },
  {
   "cell_type": "code",
   "execution_count": 15,
   "metadata": {},
   "outputs": [
    {
     "data": {
      "text/plain": [
       "<Axes: xlabel='Transition'>"
      ]
     },
     "execution_count": 15,
     "metadata": {},
     "output_type": "execute_result"
    },
    {
     "data": {
      "image/png": "[encoded data removed]",
      "text/plain": [
       "<Figure size 640x480 with 1 Axes>"
      ]
     },
     "metadata": {},
     "output_type": "display_data"
    }
   ],
   "source": [
    "df['Transition'].value_counts().plot(kind='bar')"
   ]
  },
  {
   "cell_type": "markdown",
   "metadata": {},
   "source": [
    "## Skewness"
   ]
  },
  {
   "cell_type": "code",
   "execution_count": 16,
   "metadata": {},
   "outputs": [
    {
     "name": "stdout",
     "output_type": "stream",
     "text": [
      "Positive skewness: 601\n",
      "Negative skewness: 112\n",
      "Zero skewness: 1448\n"
     ]
    }
   ],
   "source": [
    "def calculate_skewness(df):\n",
    "    skew = df.skew()\n",
    "    skew_pos = skew[skew > 1]\n",
    "    skew_neg = skew[skew < -1]\n",
    "    skew_zero = skew[(skew >= -1) & (skew <= 1)]\n",
    "    print(f\"Positive skewness: {len(skew_pos)}\")\n",
    "    print(f\"Negative skewness: {len(skew_neg)}\")\n",
    "    print(f\"Zero skewness: {len(skew_zero)}\")\n",
    "    return skew_pos, skew_neg, skew_zero\n",
    "\n",
    "numerical_df = x_train.select_dtypes(include=['number'])\n",
    "skew_pos, skew_neg, skew_zero = calculate_skewness(numerical_df)"
   ]
  },
  {
   "cell_type": "markdown",
   "metadata": {},
   "source": [
    "## Kurtosis"
   ]
  },
  {
   "cell_type": "code",
   "execution_count": 17,
   "metadata": {},
   "outputs": [
    {
     "name": "stdout",
     "output_type": "stream",
     "text": [
      "Positive kurtosis: 969\n",
      "Negative kurtosis: 118\n",
      "Zero kurtosis: 1074\n"
     ]
    }
   ],
   "source": [
    "def calculate_kurtosis(df):\n",
    "    kurt = df.kurtosis()\n",
    "    kurt_pos = kurt[kurt > 1]\n",
    "    kurt_neg = kurt[kurt < -1]\n",
    "    kurt_zero = kurt[(kurt >= -1) & (kurt <= 1)]\n",
    "    print(f\"Positive kurtosis: {len(kurt_pos)}\")\n",
    "    print(f\"Negative kurtosis: {len(kurt_neg)}\")\n",
    "    print(f\"Zero kurtosis: {len(kurt_zero)}\")\n",
    "    return kurt_pos, kurt_neg, kurt_zero\n",
    "\n",
    "numerical_df = x_train.select_dtypes(include=['number'])\n",
    "\n",
    "kurt_pos, kurt_neg, kurt_zero = calculate_kurtosis(numerical_df)"
   ]
  }
 ],
 "metadata": {
  "kernelspec": {
   "display_name": "Daa312",
   "language": "python",
   "name": "python3"
  },
  "language_info": {
   "codemirror_mode": {
    "name": "ipython",
    "version": 3
   },
   "file_extension": ".py",
   "mimetype": "text/x-python",
   "name": "python",
   "nbconvert_exporter": "python",
   "pygments_lexer": "ipython3",
   "version": "3.12.2"
  }
 },
 "nbformat": 4,
 "nbformat_minor": 2
}
