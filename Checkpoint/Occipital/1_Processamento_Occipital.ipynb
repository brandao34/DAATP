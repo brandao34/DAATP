{
 "cells": [
  {
   "cell_type": "markdown",
   "metadata": {},
   "source": [
    "# IMPORTS"
   ]
  },
  {
   "cell_type": "code",
   "execution_count": 2,
   "metadata": {},
   "outputs": [],
   "source": [
    "from sklearn.ensemble import RandomForestClassifier\n",
    "from sklearn.metrics import classification_report, confusion_matrix\n",
    "from sklearn.metrics import accuracy_score\n",
    "from sklearn.ensemble import RandomForestClassifier\n",
    "import matplotlib.pyplot as plt\n",
    "import matplotlib.pyplot as plt\n",
    "import pandas as pd\n",
    "import numpy as np\n",
    "from sklearn.model_selection import GridSearchCV, train_test_split\n",
    "import seaborn as sns\n",
    "from sklearn.model_selection import train_test_split\n",
    "from sklearn.model_selection import cross_val_predict\n",
    "from sklearn.model_selection import cross_val_score\n",
    "import matplotlib.pyplot as plt\n",
    "import seaborn as sns\n",
    "from sklearn.metrics import confusion_matrix\n",
    "from xgboost import XGBClassifier\n",
    "from sklearn.ensemble import RandomForestClassifier\n",
    "from sklearn.metrics import classification_report, confusion_matrix\n",
    "import seaborn as sns\n",
    "import matplotlib.pyplot as plt\n",
    "from sklearn.ensemble import ExtraTreesClassifier\n",
    "from sklearn.ensemble import GradientBoostingClassifier\n",
    "from sklearn.neighbors import KNeighborsClassifier\n",
    "from sklearn.discriminant_analysis import StandardScaler\n",
    "from sklearn.model_selection import train_test_split\n",
    "from imblearn.over_sampling import SMOTE\n",
    "from sklearn.svm import SVC\n",
    "from sklearn.cluster import KMeans\n",
    "\n"
   ]
  },
  {
   "cell_type": "markdown",
   "metadata": {},
   "source": [
    "## LEITURA DOS DADOS"
   ]
  },
  {
   "cell_type": "code",
   "execution_count": 3,
   "metadata": {},
   "outputs": [],
   "source": [
    "df = pd.read_csv('../../RawData/train_radiomics_occipital_CONTROL.csv') \n",
    "x_train = df.drop(columns=['Transition'])"
   ]
  },
  {
   "cell_type": "markdown",
   "metadata": {},
   "source": [
    "# Tratamento"
   ]
  },
  {
   "cell_type": "markdown",
   "metadata": {},
   "source": [
    "### Single Value Colums "
   ]
  },
  {
   "cell_type": "code",
   "execution_count": 4,
   "metadata": {},
   "outputs": [],
   "source": [
    "df = df.loc[:, df.nunique() > 1]\n",
    "\n",
    "\n",
    "#  Analise das colunas que tem menos de 50 valores unicos \n",
    "n = df.nunique()\n",
    "#for col, e in n.items():\n",
    "#    if e < 50:  \n",
    "#        print(f\"Coluna: {col}, Valores Unicos : {e}\")"
   ]
  },
  {
   "cell_type": "markdown",
   "metadata": {},
   "source": [
    "### AGE BINING  ( secalhar isto era no 2 )"
   ]
  },
  {
   "cell_type": "code",
   "execution_count": 5,
   "metadata": {},
   "outputs": [],
   "source": [
    "\n",
    "age_bins = [0, 65, 75, 85, 100]\n",
    "# BINS_SIZER = ['<65', '65-74', '75-84', '85+']\n",
    "age_labels = [60, 70, 80, 90] # VALOR MEDIO DO BIN \n",
    "df['Age'] = pd.cut(df['Age'], bins=age_bins, labels=age_labels).astype(int)\n",
    "\n",
    "#print(df['Age'])"
   ]
  },
  {
   "cell_type": "markdown",
   "metadata": {},
   "source": [
    "### Colunas Categoricas "
   ]
  },
  {
   "cell_type": "code",
   "execution_count": 6,
   "metadata": {},
   "outputs": [],
   "source": [
    "# Analisar a contagem de valores únicos para cada coluna categórica\n",
    "\n",
    "# Identificar as colunas categóricas\n",
    "categorical_columns = df.select_dtypes(include=['object', 'category']).columns\n",
    "\n",
    "#for col in categorical_columns:\n",
    "#    print(f\"\\nColuna: {col}\")\n",
    "\n",
    "#colunas_catagoricas_a_remover = ['ID', 'Image', 'Mask', 'diagnostics_Image-original_Hash', 'diagnostics_Mask-original_Hash'] \n",
    "\n",
    "colunas_catagoricas_a_remover = ['ID', 'Image', 'Mask', 'diagnostics_Image-original_Hash', 'diagnostics_Mask-original_Hash', 'diagnostics_Mask-original_BoundingBox', 'diagnostics_Mask-original_CenterOfMassIndex', 'diagnostics_Mask-original_CenterOfMass'] \n",
    "\n",
    "# ** Bounding Box\n",
    "#\n",
    "# ** as colunas do 'diagnostics_Mask-original_BoundingBox', 'diagnostics_Mask-original_CenterOfMassIndex', 'diagnostics_Mask-original_CenterOfMass'\n",
    "# ** Deveriam ser retiradas, mas o bounding box pode ser importante para a zona de maior ativação do Alzimeir \n",
    "# **  ja a de centro de maxima devem ser muito correlacionados, por isso devem ser retirados mais para a frente \n",
    "# *TODO acabei por retirar para correr melhor os modelos, mas analisar se se deve retirar ou nao \n",
    "\n",
    "df.drop(columns=colunas_catagoricas_a_remover,axis= 1 , inplace= True)\n"
   ]
  },
  {
   "cell_type": "markdown",
   "metadata": {},
   "source": [
    "### Eliminar Transition CN-MCI \n",
    "\n",
    "Como este tipo de precisao não vai ser realiza, decidimos retirar todas as linhas com ela relacinadas para nao confundir o nosso modelo"
   ]
  },
  {
   "cell_type": "code",
   "execution_count": 7,
   "metadata": {},
   "outputs": [],
   "source": [
    "#df = df[df['Transition'] != 'CN-MCI']"
   ]
  },
  {
   "cell_type": "markdown",
   "metadata": {},
   "source": [
    "### Label Encoding"
   ]
  },
  {
   "cell_type": "code",
   "execution_count": 8,
   "metadata": {},
   "outputs": [],
   "source": [
    "label_mapping = {\n",
    "    'CN-CN': 0,\n",
    "    'AD-AD': 1,\n",
    "    'MCI-AD': 2,\n",
    "    'MCI-MCI': 3,\n",
    "    'CN-MCI' : 4\n",
    "}\n",
    "\n",
    "df['Transition'] = df['Transition'].map(label_mapping)"
   ]
  },
  {
   "cell_type": "markdown",
   "metadata": {},
   "source": [
    "## Correlacao com target "
   ]
  },
  {
   "cell_type": "code",
   "execution_count": 9,
   "metadata": {},
   "outputs": [
    {
     "name": "stdout",
     "output_type": "stream",
     "text": [
      "(295, 2026)\n",
      "(295, 2026)\n"
     ]
    }
   ],
   "source": [
    "def remove_highly_correlated_with_target(data, target_column, threshold):\n",
    "    # Compute the correlation of each column with the target column\n",
    "    corr_with_target = data.corr()[target_column].abs()\n",
    "    \n",
    "    # Identify columns to remove based on correlation with the target\n",
    "    to_drop = corr_with_target[corr_with_target >= threshold].index\n",
    "    to_drop = to_drop.drop(target_column)  # Remove target column itself if included\n",
    "    \n",
    "    # Drop the identified columns\n",
    "    data_final = data.drop(columns=to_drop)\n",
    "\n",
    "    return data_final\n",
    "print(df.shape)\n",
    "df = remove_highly_correlated_with_target(df, 'Transition',threshold=0.18)\n",
    "print(df.shape)"
   ]
  },
  {
   "cell_type": "markdown",
   "metadata": {},
   "source": [
    "## Correlacao colunas"
   ]
  },
  {
   "cell_type": "code",
   "execution_count": 10,
   "metadata": {},
   "outputs": [
    {
     "name": "stdout",
     "output_type": "stream",
     "text": [
      "(295, 2026)\n",
      "(295, 862)\n"
     ]
    }
   ],
   "source": [
    "def remove_highly_correlated_features(data, threshold):\n",
    "    # Compute the correlation matrix\n",
    "    corr_matrix = data.corr().abs()\n",
    "\n",
    "    # Identify columns to remove based on correlation\n",
    "    to_drop = set()\n",
    "    for i in range(len(corr_matrix.columns)):\n",
    "        for j in range(i + 1, len(corr_matrix.columns)):\n",
    "            if corr_matrix.iloc[i, j] >= threshold:\n",
    "                to_drop.add(corr_matrix.columns[j])\n",
    "\n",
    "    # Drop the identified columns\n",
    "    data_final = data.drop(columns=to_drop)\n",
    "\n",
    "    return data_final\n",
    "\n",
    "\n",
    "\n",
    "print(df.shape)\n",
    "df = remove_highly_correlated_features(df,0.95)\n",
    "print(df.shape)"
   ]
  },
  {
   "cell_type": "markdown",
   "metadata": {},
   "source": [
    "# Models"
   ]
  },
  {
   "cell_type": "code",
   "execution_count": 11,
   "metadata": {},
   "outputs": [],
   "source": [
    "\n",
    "#experiment = setup(df, target='Transition')"
   ]
  },
  {
   "cell_type": "code",
   "execution_count": 12,
   "metadata": {},
   "outputs": [],
   "source": [
    "#best = compare_models()"
   ]
  },
  {
   "cell_type": "markdown",
   "metadata": {},
   "source": [
    "Com o tratamento atual, o pycaret diz que os melhores modelos são :\n",
    "- Random Forest Classifier\n",
    "- Extra Trees Classifier\n",
    "- Gradient Boosting Classifier \n",
    "- K Neighbors Classifier\n",
    "- Extreme Gradient Boosting \n"
   ]
  },
  {
   "cell_type": "markdown",
   "metadata": {},
   "source": [
    "### Aplicação dos modelos (default) ao dataset tratado"
   ]
  },
  {
   "cell_type": "code",
   "execution_count": 13,
   "metadata": {},
   "outputs": [],
   "source": [
    "\n",
    "\n",
    "X = df.drop('Transition', axis=1)\n",
    "y = df['Transition']\n",
    "\n",
    "\n",
    "# Dividir o conjunto de dados em treino e teste com estratificação\n",
    "X_train, X_test, y_train, y_test = train_test_split(X, y, test_size=0.25, random_state=34, stratify=y)\n",
    "\n",
    "\n",
    "# Inicializar dicionário para armazenar as pontuações de cross-validation do modelo\n",
    "model_cross_score = {}\n"
   ]
  },
  {
   "cell_type": "markdown",
   "metadata": {},
   "source": [
    "### Funcao Matrix de Confusao "
   ]
  },
  {
   "cell_type": "code",
   "execution_count": 14,
   "metadata": {},
   "outputs": [],
   "source": [
    "def plot_confusion_matrix_with_labels(confusion_matrix, label_mapping):\n",
    "    # Criar um mapeamento inverso\n",
    "    reverse_label_mapping = {v: k for k, v in label_mapping.items()}\n",
    "    \n",
    "    # Aplicar o mapeamento inverso na matriz de confusão\n",
    "    cm_with_labels = np.zeros_like(confusion_matrix, dtype=object)\n",
    "    for i in range(confusion_matrix.shape[0]):\n",
    "        for j in range(confusion_matrix.shape[1]):\n",
    "            cm_with_labels[i, j] = f\"{reverse_label_mapping[i]} (Pred: {reverse_label_mapping[j]})\"\n",
    "\n",
    "    # Criar um DataFrame para facilitar a visualização\n",
    "    df_cm = pd.DataFrame(confusion_matrix, index=reverse_label_mapping.values(), columns=reverse_label_mapping.values())\n",
    "    \n",
    "    # Plotar a matriz de confusão\n",
    "    plt.figure(figsize=(10, 7))\n",
    "    sns.heatmap(df_cm, annot=True, fmt=\"d\", cmap=\"Blues\")\n",
    "    plt.xlabel('Predicted')\n",
    "    plt.ylabel('True')\n",
    "    plt.title('Confusion Matrix with Labels')\n",
    "    plt.show()"
   ]
  },
  {
   "cell_type": "markdown",
   "metadata": {},
   "source": [
    "#### Random Forest Classifier"
   ]
  },
  {
   "cell_type": "code",
   "execution_count": 15,
   "metadata": {},
   "outputs": [
    {
     "name": "stdout",
     "output_type": "stream",
     "text": [
      "[0.30995671 0.27736007 0.14973262 0.56944444 0.26436335 0.17156863\n",
      " 0.71892552 0.14069264 0.4625     0.19191919]\n"
     ]
    }
   ],
   "source": [
    "\n",
    "rf_model = RandomForestClassifier(n_estimators=100, max_features='sqrt', random_state=34)\n",
    "\n",
    "rf_score = cross_val_score(rf_model, X_train, y_train, cv=10,scoring='f1_macro')\n",
    "print(rf_score)\n",
    "\n",
    "model_cross_score['random_forest'] = rf_score\n",
    "\n",
    "\n",
    "\n"
   ]
  },
  {
   "cell_type": "markdown",
   "metadata": {},
   "source": [
    "#### Extra Trees Classifier"
   ]
  },
  {
   "cell_type": "code",
   "execution_count": 16,
   "metadata": {},
   "outputs": [
    {
     "name": "stdout",
     "output_type": "stream",
     "text": [
      "[0.31190476 0.25037594 0.21789322 0.44940476 0.42698413 0.17914439\n",
      " 0.44791667 0.10882353 0.26785714 0.33693609]\n"
     ]
    }
   ],
   "source": [
    "et_model = ExtraTreesClassifier(criterion='gini', max_depth=20, random_state=34)\n",
    "\n",
    "et_score = cross_val_score(et_model, X_train, y_train, cv=10,scoring='f1_macro')\n",
    "\n",
    "print(et_score)\n",
    "\n",
    "model_cross_score['Extra Trees'] = et_score"
   ]
  },
  {
   "cell_type": "markdown",
   "metadata": {},
   "source": [
    "#### Gradient Boosting Classifier "
   ]
  },
  {
   "cell_type": "code",
   "execution_count": 17,
   "metadata": {},
   "outputs": [
    {
     "name": "stdout",
     "output_type": "stream",
     "text": [
      "[0.3121345  0.27799423 0.13846154 0.34861111 0.30311355 0.22323232\n",
      " 0.26764706 0.20625    0.37570208 0.25555556]\n"
     ]
    }
   ],
   "source": [
    "gb_model = GradientBoostingClassifier(learning_rate=0.1, n_estimators=100, random_state=34)\n",
    "\n",
    "score_cross = cross_val_score(gb_model,X_train,y_train,cv=10,scoring='f1_macro')\n",
    "\n",
    "print(score_cross)\n",
    "\n",
    "model_cross_score['Gradient_boosting'] = score_cross\n",
    "\n"
   ]
  },
  {
   "cell_type": "markdown",
   "metadata": {},
   "source": [
    "#### K Neighbors Classifier"
   ]
  },
  {
   "cell_type": "code",
   "execution_count": 18,
   "metadata": {},
   "outputs": [
    {
     "name": "stdout",
     "output_type": "stream",
     "text": [
      "Acuracy k night [0.12698413 0.41614907 0.20192308 0.27579365 0.26450216 0.40396825\n",
      " 0.27192982 0.17916667 0.3        0.42751623]\n"
     ]
    }
   ],
   "source": [
    "kn_model = KNeighborsClassifier(n_neighbors=5, weights='uniform', algorithm='auto')\n",
    "k_night_croos_score = cross_val_score(kn_model, X_train, y_train, cv=10,scoring='f1_macro')\n",
    "\n",
    "print(\"Acuracy k night\", k_night_croos_score)\n",
    "\n",
    "\n",
    "model_cross_score['k_night'] = k_night_croos_score\n",
    "\n",
    "\n"
   ]
  },
  {
   "cell_type": "markdown",
   "metadata": {},
   "source": [
    "#### Extreme Gradient Boosting"
   ]
  },
  {
   "cell_type": "code",
   "execution_count": 19,
   "metadata": {},
   "outputs": [
    {
     "name": "stdout",
     "output_type": "stream",
     "text": [
      "[0.28809524 0.49166667 0.19934641 0.39213564 0.15037594 0.21590909\n",
      " 0.41066919 0.24846206 0.45753968 0.20133053]\n"
     ]
    }
   ],
   "source": [
    "xgb_model = XGBClassifier(n_estimators=100, max_depth=4, learning_rate=0.05,colsample_bytree=0.4, subsample=0.8, random_state=34)\n",
    "\n",
    "\n",
    "score_cross = cross_val_score(xgb_model,X_train,y_train,cv=10,scoring='f1_macro')\n",
    "\n",
    "print(score_cross)\n",
    "\n",
    "model_cross_score['XGBoost'] = score_cross\n",
    "\n"
   ]
  },
  {
   "cell_type": "markdown",
   "metadata": {},
   "source": [
    "SVC"
   ]
  },
  {
   "cell_type": "code",
   "execution_count": 20,
   "metadata": {},
   "outputs": [
    {
     "name": "stdout",
     "output_type": "stream",
     "text": [
      "[0.19211823 0.12068966 0.12068966 0.13333333 0.13333333 0.125\n",
      " 0.125      0.125      0.12068966 0.12068966]\n"
     ]
    }
   ],
   "source": [
    "\n",
    "\n",
    "svc_moldel = SVC(kernel='rbf', random_state=34)\n",
    "\n",
    "\n",
    "score_cross = cross_val_score(svc_moldel,X_train,y_train,cv=10,scoring='f1_macro')\n",
    "\n",
    "print(score_cross)\n",
    "\n",
    "model_cross_score['SVC'] = score_cross\n",
    "\n"
   ]
  },
  {
   "cell_type": "code",
   "execution_count": 21,
   "metadata": {},
   "outputs": [
    {
     "name": "stdout",
     "output_type": "stream",
     "text": [
      "random_forest (Max: 0.7189, Min: 0.1407, Diff: 0.5782):\n",
      "  Scores: 0.3100, 0.2774, 0.1497, 0.5694, 0.2644, 0.1716, 0.7189, 0.1407, 0.4625, 0.1919\n",
      "  Average: 0.3256\n",
      "--------------------------------------------------\n",
      "Extra Trees (Max: 0.4494, Min: 0.1088, Diff: 0.3406):\n",
      "  Scores: 0.3119, 0.2504, 0.2179, 0.4494, 0.4270, 0.1791, 0.4479, 0.1088, 0.2679, 0.3369\n",
      "  Average: 0.2997\n",
      "--------------------------------------------------\n",
      "Gradient_boosting (Max: 0.3757, Min: 0.1385, Diff: 0.2372):\n",
      "  Scores: 0.3121, 0.2780, 0.1385, 0.3486, 0.3031, 0.2232, 0.2676, 0.2062, 0.3757, 0.2556\n",
      "  Average: 0.2709\n",
      "--------------------------------------------------\n",
      "k_night (Max: 0.4275, Min: 0.1270, Diff: 0.3005):\n",
      "  Scores: 0.1270, 0.4161, 0.2019, 0.2758, 0.2645, 0.4040, 0.2719, 0.1792, 0.3000, 0.4275\n",
      "  Average: 0.2868\n",
      "--------------------------------------------------\n",
      "XGBoost (Max: 0.4917, Min: 0.1504, Diff: 0.3413):\n",
      "  Scores: 0.2881, 0.4917, 0.1993, 0.3921, 0.1504, 0.2159, 0.4107, 0.2485, 0.4575, 0.2013\n",
      "  Average: 0.3056\n",
      "--------------------------------------------------\n",
      "SVC (Max: 0.1921, Min: 0.1207, Diff: 0.0714):\n",
      "  Scores: 0.1921, 0.1207, 0.1207, 0.1333, 0.1333, 0.1250, 0.1250, 0.1250, 0.1207, 0.1207\n",
      "  Average: 0.1317\n",
      "--------------------------------------------------\n"
     ]
    }
   ],
   "source": [
    "def print_model_scores(model_scores):\n",
    "    for model, scores in model_scores.items():\n",
    "        max_score = np.max(scores)\n",
    "        min_score = np.min(scores)\n",
    "        diff = max_score - min_score\n",
    "        avg_score = np.mean(scores)\n",
    "        \n",
    "        print(f\"{model} (Max: {max_score:.4f}, Min: {min_score:.4f}, Diff: {diff:.4f}):\")\n",
    "        print(f\"  Scores: {', '.join([f'{score:.4f}' for score in scores])}\")\n",
    "        print(f\"  Average: {avg_score:.4f}\")\n",
    "        print('-' * 50)\n",
    "\n",
    "# Chamar a função para imprimir o dicionário formatado\n",
    "print_model_scores(model_cross_score)"
   ]
  }
 ],
 "metadata": {
  "kernelspec": {
   "display_name": "Python 3",
   "language": "python",
   "name": "python3"
  },
  "language_info": {
   "codemirror_mode": {
    "name": "ipython",
    "version": 3
   },
   "file_extension": ".py",
   "mimetype": "text/x-python",
   "name": "python",
   "nbconvert_exporter": "python",
   "pygments_lexer": "ipython3",
   "version": "3.12.2"
  }
 },
 "nbformat": 4,
 "nbformat_minor": 2
}
