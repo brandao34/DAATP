{
 "cells": [
  {
   "cell_type": "markdown",
   "metadata": {},
   "source": [
    "# IMPORTS"
   ]
  },
  {
   "cell_type": "code",
   "execution_count": 18,
   "metadata": {},
   "outputs": [],
   "source": [
    "from sklearn.ensemble import RandomForestClassifier\n",
    "from sklearn.metrics import classification_report, confusion_matrix\n",
    "from sklearn.metrics import accuracy_score\n",
    "from sklearn.ensemble import RandomForestClassifier\n",
    "import matplotlib.pyplot as plt\n",
    "import matplotlib.pyplot as plt\n",
    "import pandas as pd\n",
    "import numpy as np\n",
    "from sklearn.model_selection import GridSearchCV, train_test_split\n",
    "import seaborn as sns\n",
    "from sklearn.model_selection import train_test_split\n",
    "from sklearn.model_selection import cross_val_predict\n",
    "from sklearn.model_selection import cross_val_score\n",
    "import matplotlib.pyplot as plt\n",
    "import seaborn as sns\n",
    "from sklearn.metrics import confusion_matrix\n",
    "from xgboost import XGBClassifier\n",
    "from sklearn.ensemble import RandomForestClassifier\n",
    "from sklearn.metrics import classification_report, confusion_matrix\n",
    "import seaborn as sns\n",
    "import matplotlib.pyplot as plt\n",
    "from sklearn.ensemble import ExtraTreesClassifier\n",
    "from sklearn.ensemble import GradientBoostingClassifier\n",
    "from sklearn.neighbors import KNeighborsClassifier\n",
    "from sklearn.discriminant_analysis import StandardScaler\n",
    "from sklearn.model_selection import train_test_split\n",
    "from imblearn.over_sampling import SMOTE\n",
    "from sklearn.svm import SVC\n",
    "from sklearn.cluster import KMeans\n",
    "\n"
   ]
  },
  {
   "cell_type": "markdown",
   "metadata": {},
   "source": [
    "## LEITURA DOS DADOS"
   ]
  },
  {
   "cell_type": "code",
   "execution_count": 19,
   "metadata": {},
   "outputs": [],
   "source": [
    "df = pd.read_csv('../../RawData/train_radiomics_hipocamp.csv') \n",
    "df_test = pd.read_csv('../../RawData/test_radiomics_hipocamp.csv')\n",
    "x_train = df.drop(columns=['Transition'])"
   ]
  },
  {
   "cell_type": "markdown",
   "metadata": {},
   "source": [
    "# Tratamento"
   ]
  },
  {
   "cell_type": "markdown",
   "metadata": {},
   "source": [
    "### Single Value Colums "
   ]
  },
  {
   "cell_type": "code",
   "execution_count": 20,
   "metadata": {},
   "outputs": [],
   "source": [
    "df = df.loc[:, df.nunique() > 1]\n",
    "\n",
    "\n",
    "#  Analise das colunas que tem menos de 50 valores unicos \n",
    "n = df.nunique()\n",
    "#for col, e in n.items():\n",
    "#    if e < 50:  \n",
    "#        print(f\"Coluna: {col}, Valores Unicos : {e}\")"
   ]
  },
  {
   "cell_type": "markdown",
   "metadata": {},
   "source": [
    "### AGE BINING  ( secalhar isto era no 2 )"
   ]
  },
  {
   "cell_type": "code",
   "execution_count": 21,
   "metadata": {},
   "outputs": [],
   "source": [
    "\n",
    "age_bins = [0, 65, 75, 85, 100]\n",
    "# BINS_SIZER = ['<65', '65-74', '75-84', '85+']\n",
    "age_labels = [60, 70, 80, 90] # VALOR MEDIO DO BIN \n",
    "df['Age'] = pd.cut(df['Age'], bins=age_bins, labels=age_labels).astype(int)\n",
    "\n",
    "#print(df['Age'])"
   ]
  },
  {
   "cell_type": "markdown",
   "metadata": {},
   "source": [
    "### Colunas Categoricas "
   ]
  },
  {
   "cell_type": "code",
   "execution_count": 22,
   "metadata": {},
   "outputs": [],
   "source": [
    "# Analisar a contagem de valores únicos para cada coluna categórica\n",
    "\n",
    "# Identificar as colunas categóricas\n",
    "categorical_columns = df.select_dtypes(include=['object', 'category']).columns\n",
    "\n",
    "#for col in categorical_columns:\n",
    "#    print(f\"\\nColuna: {col}\")\n",
    "\n",
    "#colunas_catagoricas_a_remover = ['ID', 'Image', 'Mask', 'diagnostics_Image-original_Hash', 'diagnostics_Mask-original_Hash'] \n",
    "\n",
    "colunas_catagoricas_a_remover = ['ID', 'Image', 'Mask', 'diagnostics_Image-original_Hash', 'diagnostics_Mask-original_Hash', 'diagnostics_Mask-original_BoundingBox', 'diagnostics_Mask-original_CenterOfMassIndex', 'diagnostics_Mask-original_CenterOfMass'] \n",
    "\n",
    "# ** Bounding Box\n",
    "#\n",
    "# ** as colunas do 'diagnostics_Mask-original_BoundingBox', 'diagnostics_Mask-original_CenterOfMassIndex', 'diagnostics_Mask-original_CenterOfMass'\n",
    "# ** Deveriam ser retiradas, mas o bounding box pode ser importante para a zona de maior ativação do Alzimeir \n",
    "# **  ja a de centro de maxima devem ser muito correlacionados, por isso devem ser retirados mais para a frente \n",
    "# *TODO acabei por retirar para correr melhor os modelos, mas analisar se se deve retirar ou nao \n",
    "\n",
    "df.drop(columns=colunas_catagoricas_a_remover,axis= 1 , inplace= True)\n"
   ]
  },
  {
   "cell_type": "markdown",
   "metadata": {},
   "source": [
    "### Eliminar Transition CN-MCI \n",
    "\n",
    "Como este tipo de precisao não vai ser realiza, decidimos retirar todas as linhas com ela relacinadas para nao confundir o nosso modelo"
   ]
  },
  {
   "cell_type": "code",
   "execution_count": 23,
   "metadata": {},
   "outputs": [],
   "source": [
    "df = df[df['Transition'] != 'CN-MCI']"
   ]
  },
  {
   "cell_type": "markdown",
   "metadata": {},
   "source": [
    "### Label Encoding"
   ]
  },
  {
   "cell_type": "code",
   "execution_count": 24,
   "metadata": {},
   "outputs": [],
   "source": [
    "label_mapping = {\n",
    "    'CN-CN': 0,\n",
    "    'AD-AD': 1,\n",
    "    'MCI-AD': 2,\n",
    "    'MCI-MCI': 3,\n",
    "#    'CN-MCI' : 4\n",
    "}\n",
    "\n",
    "df['Transition'] = df['Transition'].map(label_mapping)"
   ]
  },
  {
   "cell_type": "markdown",
   "metadata": {},
   "source": [
    "## Correlacao com target "
   ]
  },
  {
   "cell_type": "code",
   "execution_count": 25,
   "metadata": {},
   "outputs": [
    {
     "name": "stdout",
     "output_type": "stream",
     "text": [
      "(295, 2014)\n",
      "(295, 1661)\n"
     ]
    }
   ],
   "source": [
    "def remove_highly_correlated_with_target(data, target_column, threshold):\n",
    "    # Compute the correlation of each column with the target column\n",
    "    corr_with_target = data.corr()[target_column].abs()\n",
    "    \n",
    "    # Identify columns to remove based on correlation with the target\n",
    "    to_drop = corr_with_target[corr_with_target >= threshold].index\n",
    "    to_drop = to_drop.drop(target_column)  # Remove target column itself if included\n",
    "    \n",
    "    # Drop the identified columns\n",
    "    data_final = data.drop(columns=to_drop)\n",
    "\n",
    "    return data_final\n",
    "print(df.shape)\n",
    "df = remove_highly_correlated_with_target(df, 'Transition',threshold=0.18)\n",
    "print(df.shape)"
   ]
  },
  {
   "cell_type": "markdown",
   "metadata": {},
   "source": [
    "## Correlacao colunas"
   ]
  },
  {
   "cell_type": "code",
   "execution_count": 26,
   "metadata": {},
   "outputs": [
    {
     "name": "stdout",
     "output_type": "stream",
     "text": [
      "(295, 1661)\n",
      "(295, 843)\n"
     ]
    }
   ],
   "source": [
    "def remove_highly_correlated_features(data, threshold):\n",
    "    # Compute the correlation matrix\n",
    "    corr_matrix = data.corr().abs()\n",
    "\n",
    "    # Identify columns to remove based on correlation\n",
    "    to_drop = set()\n",
    "    for i in range(len(corr_matrix.columns)):\n",
    "        for j in range(i + 1, len(corr_matrix.columns)):\n",
    "            if corr_matrix.iloc[i, j] >= threshold:\n",
    "                to_drop.add(corr_matrix.columns[j])\n",
    "\n",
    "    # Drop the identified columns\n",
    "    data_final = data.drop(columns=to_drop)\n",
    "\n",
    "    return data_final\n",
    "\n",
    "\n",
    "\n",
    "print(df.shape)\n",
    "df = remove_highly_correlated_features(df,0.95)\n",
    "print(df.shape)"
   ]
  },
  {
   "cell_type": "markdown",
   "metadata": {},
   "source": [
    "# Models"
   ]
  },
  {
   "cell_type": "code",
   "execution_count": 27,
   "metadata": {},
   "outputs": [],
   "source": [
    "\n",
    "#experiment = setup(df, target='Transition')"
   ]
  },
  {
   "cell_type": "code",
   "execution_count": 28,
   "metadata": {},
   "outputs": [],
   "source": [
    "#best = compare_models()"
   ]
  },
  {
   "cell_type": "markdown",
   "metadata": {},
   "source": [
    "Com o tratamento atual, o pycaret diz que os melhores modelos são :\n",
    "- Random Forest Classifier\n",
    "- Extra Trees Classifier\n",
    "- Gradient Boosting Classifier \n",
    "- K Neighbors Classifier\n",
    "- Extreme Gradient Boosting \n"
   ]
  },
  {
   "cell_type": "markdown",
   "metadata": {},
   "source": [
    "### Aplicação dos modelos (default) ao dataset tratado"
   ]
  },
  {
   "cell_type": "code",
   "execution_count": 29,
   "metadata": {},
   "outputs": [],
   "source": [
    "\n",
    "\n",
    "X = df.drop('Transition', axis=1)\n",
    "y = df['Transition']\n",
    "\n",
    "\n",
    "# Dividir o conjunto de dados em treino e teste com estratificação\n",
    "X_train, X_test, y_train, y_test = train_test_split(X, y, test_size=0.25, random_state=34, stratify=y)\n",
    "\n",
    "\n",
    "# Inicializar dicionário para armazenar as pontuações de cross-validation do modelo\n",
    "model_cross_score = {}\n"
   ]
  },
  {
   "cell_type": "markdown",
   "metadata": {},
   "source": [
    "### Funcao Matrix de Confusao "
   ]
  },
  {
   "cell_type": "code",
   "execution_count": 30,
   "metadata": {},
   "outputs": [],
   "source": [
    "def plot_confusion_matrix_with_labels(confusion_matrix, label_mapping):\n",
    "    # Criar um mapeamento inverso\n",
    "    reverse_label_mapping = {v: k for k, v in label_mapping.items()}\n",
    "    \n",
    "    # Aplicar o mapeamento inverso na matriz de confusão\n",
    "    cm_with_labels = np.zeros_like(confusion_matrix, dtype=object)\n",
    "    for i in range(confusion_matrix.shape[0]):\n",
    "        for j in range(confusion_matrix.shape[1]):\n",
    "            cm_with_labels[i, j] = f\"{reverse_label_mapping[i]} (Pred: {reverse_label_mapping[j]})\"\n",
    "\n",
    "    # Criar um DataFrame para facilitar a visualização\n",
    "    df_cm = pd.DataFrame(confusion_matrix, index=reverse_label_mapping.values(), columns=reverse_label_mapping.values())\n",
    "    \n",
    "    # Plotar a matriz de confusão\n",
    "    plt.figure(figsize=(10, 7))\n",
    "    sns.heatmap(df_cm, annot=True, fmt=\"d\", cmap=\"Blues\")\n",
    "    plt.xlabel('Predicted')\n",
    "    plt.ylabel('True')\n",
    "    plt.title('Confusion Matrix with Labels')\n",
    "    plt.show()"
   ]
  },
  {
   "cell_type": "markdown",
   "metadata": {},
   "source": [
    "#### Random Forest Classifier"
   ]
  },
  {
   "cell_type": "code",
   "execution_count": 31,
   "metadata": {},
   "outputs": [
    {
     "name": "stdout",
     "output_type": "stream",
     "text": [
      "[0.37563131 0.42222222 0.36511438 0.420671   0.16666667 0.46806319\n",
      " 0.40714286 0.49074675 0.39436381 0.46103896]\n"
     ]
    }
   ],
   "source": [
    "\n",
    "rf_model = RandomForestClassifier(n_estimators=100, max_features='sqrt', random_state=34)\n",
    "\n",
    "rf_score = cross_val_score(rf_model, X_train, y_train, cv=10,scoring='f1_macro')\n",
    "print(rf_score)\n",
    "\n",
    "model_cross_score['random_forest'] = rf_score\n",
    "\n",
    "\n",
    "\n"
   ]
  },
  {
   "cell_type": "markdown",
   "metadata": {},
   "source": [
    "#### Extra Trees Classifier"
   ]
  },
  {
   "cell_type": "code",
   "execution_count": 32,
   "metadata": {},
   "outputs": [
    {
     "name": "stdout",
     "output_type": "stream",
     "text": [
      "[0.27916667 0.42647059 0.49146825 0.45436508 0.23809524 0.6092033\n",
      " 0.40714286 0.38720103 0.42847222 0.41382576]\n"
     ]
    }
   ],
   "source": [
    "et_model = ExtraTreesClassifier(criterion='gini', max_depth=20, random_state=34)\n",
    "\n",
    "et_score = cross_val_score(et_model, X_train, y_train, cv=10,scoring='f1_macro')\n",
    "\n",
    "print(et_score)\n",
    "\n",
    "model_cross_score['Extra Trees'] = et_score"
   ]
  },
  {
   "cell_type": "markdown",
   "metadata": {},
   "source": [
    "#### Gradient Boosting Classifier "
   ]
  },
  {
   "cell_type": "code",
   "execution_count": 33,
   "metadata": {},
   "outputs": [
    {
     "name": "stdout",
     "output_type": "stream",
     "text": [
      "[0.2960275  0.3375     0.42777778 0.47786132 0.50575397 0.41066919\n",
      " 0.23809524 0.38422688 0.56111111 0.34752747]\n"
     ]
    }
   ],
   "source": [
    "gb_model = GradientBoostingClassifier(learning_rate=0.1, n_estimators=100, random_state=34)\n",
    "\n",
    "score_cross = cross_val_score(gb_model,X_train,y_train,cv=10,scoring='f1_macro')\n",
    "\n",
    "print(score_cross)\n",
    "\n",
    "model_cross_score['Gradient_boosting'] = score_cross\n",
    "\n"
   ]
  },
  {
   "cell_type": "markdown",
   "metadata": {},
   "source": [
    "#### K Neighbors Classifier"
   ]
  },
  {
   "cell_type": "code",
   "execution_count": 34,
   "metadata": {},
   "outputs": [
    {
     "name": "stdout",
     "output_type": "stream",
     "text": [
      "Acuracy k night [0.31345029 0.46875    0.33554028 0.40296631 0.36507937 0.42205882\n",
      " 0.1993007  0.26764706 0.23796791 0.35952381]\n"
     ]
    }
   ],
   "source": [
    "kn_model = KNeighborsClassifier(n_neighbors=5, weights='uniform', algorithm='auto')\n",
    "k_night_croos_score = cross_val_score(kn_model, X_train, y_train, cv=10,scoring='f1_macro')\n",
    "\n",
    "print(\"Acuracy k night\", k_night_croos_score)\n",
    "\n",
    "\n",
    "model_cross_score['k_night'] = k_night_croos_score\n",
    "\n",
    "\n"
   ]
  },
  {
   "cell_type": "markdown",
   "metadata": {},
   "source": [
    "#### Extreme Gradient Boosting"
   ]
  },
  {
   "cell_type": "code",
   "execution_count": 35,
   "metadata": {},
   "outputs": [
    {
     "name": "stdout",
     "output_type": "stream",
     "text": [
      "[0.32361111 0.32222222 0.43125    0.43181818 0.3297619  0.35504202\n",
      " 0.3419289  0.36098901 0.53321678 0.33831169]\n"
     ]
    }
   ],
   "source": [
    "xgb_model = XGBClassifier(n_estimators=100, max_depth=4, learning_rate=0.05,colsample_bytree=0.4, subsample=0.8, random_state=34)\n",
    "\n",
    "\n",
    "score_cross = cross_val_score(xgb_model,X_train,y_train,cv=10,scoring='f1_macro')\n",
    "\n",
    "print(score_cross)\n",
    "\n",
    "model_cross_score['XGBoost'] = score_cross\n",
    "\n"
   ]
  },
  {
   "cell_type": "markdown",
   "metadata": {},
   "source": [
    "SVC"
   ]
  },
  {
   "cell_type": "code",
   "execution_count": 36,
   "metadata": {},
   "outputs": [
    {
     "name": "stdout",
     "output_type": "stream",
     "text": [
      "[0.21467391 0.18043478 0.29047619 0.22527473 0.17857143 0.23611111\n",
      " 0.22142857 0.20075758 0.40217391 0.37371795]\n"
     ]
    }
   ],
   "source": [
    "\n",
    "\n",
    "svc_moldel = SVC(kernel='rbf', random_state=34)\n",
    "\n",
    "\n",
    "score_cross = cross_val_score(svc_moldel,X_train,y_train,cv=10,scoring='f1_macro')\n",
    "\n",
    "print(score_cross)\n",
    "\n",
    "model_cross_score['SVC'] = score_cross\n",
    "\n"
   ]
  },
  {
   "cell_type": "code",
   "execution_count": 37,
   "metadata": {},
   "outputs": [
    {
     "name": "stdout",
     "output_type": "stream",
     "text": [
      "random_forest (Max: 0.4907, Min: 0.1667, Diff: 0.3241):\n",
      "  Scores: 0.3756, 0.4222, 0.3651, 0.4207, 0.1667, 0.4681, 0.4071, 0.4907, 0.3944, 0.4610\n",
      "  Average: 0.3972\n",
      "--------------------------------------------------\n",
      "Extra Trees (Max: 0.6092, Min: 0.2381, Diff: 0.3711):\n",
      "  Scores: 0.2792, 0.4265, 0.4915, 0.4544, 0.2381, 0.6092, 0.4071, 0.3872, 0.4285, 0.4138\n",
      "  Average: 0.4135\n",
      "--------------------------------------------------\n",
      "Gradient_boosting (Max: 0.5611, Min: 0.2381, Diff: 0.3230):\n",
      "  Scores: 0.2960, 0.3375, 0.4278, 0.4779, 0.5058, 0.4107, 0.2381, 0.3842, 0.5611, 0.3475\n",
      "  Average: 0.3987\n",
      "--------------------------------------------------\n",
      "k_night (Max: 0.4688, Min: 0.1993, Diff: 0.2694):\n",
      "  Scores: 0.3135, 0.4688, 0.3355, 0.4030, 0.3651, 0.4221, 0.1993, 0.2676, 0.2380, 0.3595\n",
      "  Average: 0.3372\n",
      "--------------------------------------------------\n",
      "XGBoost (Max: 0.5332, Min: 0.3222, Diff: 0.2110):\n",
      "  Scores: 0.3236, 0.3222, 0.4312, 0.4318, 0.3298, 0.3550, 0.3419, 0.3610, 0.5332, 0.3383\n",
      "  Average: 0.3768\n",
      "--------------------------------------------------\n",
      "SVC (Max: 0.4022, Min: 0.1786, Diff: 0.2236):\n",
      "  Scores: 0.2147, 0.1804, 0.2905, 0.2253, 0.1786, 0.2361, 0.2214, 0.2008, 0.4022, 0.3737\n",
      "  Average: 0.2524\n",
      "--------------------------------------------------\n"
     ]
    }
   ],
   "source": [
    "def print_model_scores(model_scores):\n",
    "    for model, scores in model_scores.items():\n",
    "        max_score = np.max(scores)\n",
    "        min_score = np.min(scores)\n",
    "        diff = max_score - min_score\n",
    "        avg_score = np.mean(scores)\n",
    "        \n",
    "        print(f\"{model} (Max: {max_score:.4f}, Min: {min_score:.4f}, Diff: {diff:.4f}):\")\n",
    "        print(f\"  Scores: {', '.join([f'{score:.4f}' for score in scores])}\")\n",
    "        print(f\"  Average: {avg_score:.4f}\")\n",
    "        print('-' * 50)\n",
    "\n",
    "# Chamar a função para imprimir o dicionário formatado\n",
    "print_model_scores(model_cross_score)"
   ]
  }
 ],
 "metadata": {
  "kernelspec": {
   "display_name": "Python 3",
   "language": "python",
   "name": "python3"
  },
  "language_info": {
   "codemirror_mode": {
    "name": "ipython",
    "version": 3
   },
   "file_extension": ".py",
   "mimetype": "text/x-python",
   "name": "python",
   "nbconvert_exporter": "python",
   "pygments_lexer": "ipython3",
   "version": "3.12.2"
  }
 },
 "nbformat": 4,
 "nbformat_minor": 2
}
