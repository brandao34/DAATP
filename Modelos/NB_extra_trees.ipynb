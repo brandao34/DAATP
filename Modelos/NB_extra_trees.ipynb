{
 "cells": [
  {
   "cell_type": "code",
   "execution_count": 40,
   "metadata": {},
   "outputs": [
    {
     "name": "stdout",
     "output_type": "stream",
     "text": [
      "Current Best Score Stored: 45.42528735632183867210%\n",
      "Model with Best Score: RandomForestClassifier\n",
      "\n"
     ]
    }
   ],
   "source": [
    "import pandas as pd\n",
    "from sklearn.metrics import ConfusionMatrixDisplay, confusion_matrix\n",
    "from model_suport import load_best_score, plot_confusion_matrix_with_labels, generate_predictions_csv\n",
    "import optuna\n",
    "import os\n",
    "from sklearn.ensemble import ExtraTreesClassifier\n",
    "from sklearn.model_selection import cross_val_score, train_test_split\n",
    "from sklearn.metrics import f1_score\n",
    "from sklearn.metrics import classification_report, confusion_matrix\n",
    "import matplotlib.pyplot as plt\n",
    "import seaborn as sns\n",
    "import numpy as np\n",
    "\n",
    "\n",
    "\n",
    "# Cell 2: Carregamento dos dados\n",
    "data = pd.read_csv('../process/Main_Versao/DF_1_After_Pre_Processamento.csv') \n",
    "data_test = pd.read_csv('../process/Main_Versao/DF_Test_1_After_Pre_Processamento.csv')\n",
    "\n",
    "label_mapping = {\n",
    "    'CN-CN': 0,\n",
    "    'AD-AD': 1,\n",
    "    'MCI-AD': 2,\n",
    "    'MCI-MCI': 3,\n",
    "#    'CN-MCI' : 4\n",
    "}\n",
    "# Separação das features e do target\n",
    "X = data.drop('Transition', axis=1)\n",
    "y = data['Transition']\n",
    "\n",
    "# Divisão dos dados em treino e teste\n",
    "X_train, X_test, y_train, y_test = train_test_split(X, y, test_size=0.25, random_state=34, stratify=y)\n",
    "\n",
    "# Obtenção do melhor score anterior\n",
    "best_score, _ = load_best_score()"
   ]
  },
  {
   "cell_type": "code",
   "execution_count": 41,
   "metadata": {},
   "outputs": [],
   "source": [
    "def plot_confusion_matrix_with_labels(confusion_matrix, label_mapping):\n",
    "    # Criar um mapeamento inverso\n",
    "    reverse_label_mapping = {v: k for k, v in label_mapping.items()}\n",
    "    \n",
    "    # Aplicar o mapeamento inverso na matriz de confusão\n",
    "    cm_with_labels = np.zeros_like(confusion_matrix, dtype=object)\n",
    "    for i in range(confusion_matrix.shape[0]):\n",
    "        for j in range(confusion_matrix.shape[1]):\n",
    "            cm_with_labels[i, j] = f\"{reverse_label_mapping[i]} (Pred: {reverse_label_mapping[j]})\"\n",
    "\n",
    "    # Criar um DataFrame para facilitar a visualização\n",
    "    df_cm = pd.DataFrame(confusion_matrix, index=reverse_label_mapping.values(), columns=reverse_label_mapping.values())\n",
    "    \n",
    "    # Plotar a matriz de confusão\n",
    "    plt.figure(figsize=(10, 7))\n",
    "    sns.heatmap(df_cm, annot=True, fmt=\"d\", cmap=\"Blues\")\n",
    "    plt.xlabel('Predicted')\n",
    "    plt.ylabel('True')\n",
    "    plt.title('Confusion Matrix with Labels')\n",
    "    plt.show()"
   ]
  },
  {
   "cell_type": "markdown",
   "metadata": {},
   "source": [
    "TPE "
   ]
  },
  {
   "cell_type": "code",
   "execution_count": 42,
   "metadata": {},
   "outputs": [],
   "source": [
    "def objective(trial):\n",
    "    n_estimators = trial.suggest_int('n_estimators', 200, 800)\n",
    "    max_features = trial.suggest_categorical('max_features', ['sqrt', 'log2'])\n",
    "    max_depth = trial.suggest_int('max_depth', 5, 30)\n",
    "    min_samples_split = trial.suggest_int('min_samples_split', 2, 20)\n",
    "    min_samples_leaf = trial.suggest_int('min_samples_leaf', 1, 10)\n",
    "    bootstrap = trial.suggest_categorical('bootstrap', [False, True])\n",
    "    criterion = trial.suggest_categorical('criterion', ['gini', 'entropy','log_loss'])\n",
    "    class_weight = trial.suggest_categorical('class_weight', ['balanced', None])\n",
    "\n",
    "    model1 = ExtraTreesClassifier(\n",
    "        n_estimators=n_estimators,\n",
    "        criterion=criterion,\n",
    "        class_weight = class_weight,\n",
    "        max_features=max_features,\n",
    "        max_depth=max_depth,\n",
    "        min_samples_split=min_samples_split,\n",
    "        min_samples_leaf=min_samples_leaf,\n",
    "        bootstrap=bootstrap,\n",
    "        random_state=34\n",
    "    )\n",
    "\n",
    "    scores_5 = cross_val_score(model1, X_train, y_train, cv=5, scoring='f1_macro')\n",
    "    accuracy_5 = scores_5.mean()\n",
    "\n",
    "    return accuracy_5\n"
   ]
  },
  {
   "cell_type": "code",
   "execution_count": 43,
   "metadata": {},
   "outputs": [
    {
     "name": "stderr",
     "output_type": "stream",
     "text": [
      "[I 2024-11-27 15:26:48,022] A new study created in memory with name: no-name-b1984941-e774-402a-8dd8-2e76319f3b51\n",
      "[I 2024-11-27 15:26:49,104] Trial 0 finished with value: 0.3864067657662963 and parameters: {'n_estimators': 206, 'max_features': 'sqrt', 'max_depth': 28, 'min_samples_split': 15, 'min_samples_leaf': 8, 'bootstrap': False, 'criterion': 'log_loss', 'class_weight': 'balanced'}. Best is trial 0 with value: 0.3864067657662963.\n",
      "[I 2024-11-27 15:26:50,725] Trial 1 finished with value: 0.3379754105982113 and parameters: {'n_estimators': 508, 'max_features': 'log2', 'max_depth': 5, 'min_samples_split': 20, 'min_samples_leaf': 7, 'bootstrap': False, 'criterion': 'log_loss', 'class_weight': None}. Best is trial 0 with value: 0.3864067657662963.\n",
      "[I 2024-11-27 15:26:52,815] Trial 2 finished with value: 0.4015238125908656 and parameters: {'n_estimators': 397, 'max_features': 'sqrt', 'max_depth': 10, 'min_samples_split': 12, 'min_samples_leaf': 6, 'bootstrap': False, 'criterion': 'entropy', 'class_weight': 'balanced'}. Best is trial 2 with value: 0.4015238125908656.\n",
      "[I 2024-11-27 15:26:55,782] Trial 3 finished with value: 0.39080775760741804 and parameters: {'n_estimators': 698, 'max_features': 'log2', 'max_depth': 20, 'min_samples_split': 15, 'min_samples_leaf': 2, 'bootstrap': True, 'criterion': 'gini', 'class_weight': 'balanced'}. Best is trial 2 with value: 0.4015238125908656.\n",
      "[I 2024-11-27 15:26:58,423] Trial 4 finished with value: 0.3793780766713454 and parameters: {'n_estimators': 449, 'max_features': 'sqrt', 'max_depth': 25, 'min_samples_split': 5, 'min_samples_leaf': 3, 'bootstrap': True, 'criterion': 'log_loss', 'class_weight': 'balanced'}. Best is trial 2 with value: 0.4015238125908656.\n",
      "[I 2024-11-27 15:27:00,204] Trial 5 finished with value: 0.38460597459332635 and parameters: {'n_estimators': 423, 'max_features': 'sqrt', 'max_depth': 12, 'min_samples_split': 18, 'min_samples_leaf': 9, 'bootstrap': False, 'criterion': 'gini', 'class_weight': None}. Best is trial 2 with value: 0.4015238125908656.\n",
      "[I 2024-11-27 15:27:01,932] Trial 6 finished with value: 0.3951326004032138 and parameters: {'n_estimators': 373, 'max_features': 'sqrt', 'max_depth': 9, 'min_samples_split': 15, 'min_samples_leaf': 7, 'bootstrap': False, 'criterion': 'gini', 'class_weight': 'balanced'}. Best is trial 2 with value: 0.4015238125908656.\n",
      "[I 2024-11-27 15:27:04,478] Trial 7 finished with value: 0.3934076364467748 and parameters: {'n_estimators': 709, 'max_features': 'log2', 'max_depth': 12, 'min_samples_split': 20, 'min_samples_leaf': 1, 'bootstrap': False, 'criterion': 'gini', 'class_weight': 'balanced'}. Best is trial 2 with value: 0.4015238125908656.\n",
      "[I 2024-11-27 15:27:05,732] Trial 8 finished with value: 0.37782769149908557 and parameters: {'n_estimators': 351, 'max_features': 'log2', 'max_depth': 22, 'min_samples_split': 2, 'min_samples_leaf': 9, 'bootstrap': False, 'criterion': 'gini', 'class_weight': None}. Best is trial 2 with value: 0.4015238125908656.\n",
      "[I 2024-11-27 15:27:08,691] Trial 9 finished with value: 0.39431923811463954 and parameters: {'n_estimators': 464, 'max_features': 'sqrt', 'max_depth': 9, 'min_samples_split': 4, 'min_samples_leaf': 5, 'bootstrap': True, 'criterion': 'gini', 'class_weight': None}. Best is trial 2 with value: 0.4015238125908656.\n",
      "[I 2024-11-27 15:27:10,121] Trial 10 finished with value: 0.37378608331875124 and parameters: {'n_estimators': 214, 'max_features': 'sqrt', 'max_depth': 15, 'min_samples_split': 9, 'min_samples_leaf': 5, 'bootstrap': True, 'criterion': 'entropy', 'class_weight': 'balanced'}. Best is trial 2 with value: 0.4015238125908656.\n",
      "[I 2024-11-27 15:27:11,993] Trial 11 finished with value: 0.37958443219341553 and parameters: {'n_estimators': 327, 'max_features': 'sqrt', 'max_depth': 5, 'min_samples_split': 11, 'min_samples_leaf': 6, 'bootstrap': False, 'criterion': 'entropy', 'class_weight': 'balanced'}. Best is trial 2 with value: 0.4015238125908656.\n",
      "[I 2024-11-27 15:27:15,376] Trial 12 finished with value: 0.3826222472458431 and parameters: {'n_estimators': 583, 'max_features': 'sqrt', 'max_depth': 9, 'min_samples_split': 14, 'min_samples_leaf': 4, 'bootstrap': False, 'criterion': 'entropy', 'class_weight': 'balanced'}. Best is trial 2 with value: 0.4015238125908656.\n",
      "[I 2024-11-27 15:27:17,216] Trial 13 finished with value: 0.37976697976613083 and parameters: {'n_estimators': 326, 'max_features': 'sqrt', 'max_depth': 16, 'min_samples_split': 9, 'min_samples_leaf': 7, 'bootstrap': False, 'criterion': 'entropy', 'class_weight': 'balanced'}. Best is trial 2 with value: 0.4015238125908656.\n",
      "[I 2024-11-27 15:27:20,080] Trial 14 finished with value: 0.38914583225849236 and parameters: {'n_estimators': 563, 'max_features': 'sqrt', 'max_depth': 9, 'min_samples_split': 12, 'min_samples_leaf': 10, 'bootstrap': False, 'criterion': 'entropy', 'class_weight': 'balanced'}. Best is trial 2 with value: 0.4015238125908656.\n",
      "[I 2024-11-27 15:27:22,055] Trial 15 finished with value: 0.4031247243674154 and parameters: {'n_estimators': 379, 'max_features': 'sqrt', 'max_depth': 13, 'min_samples_split': 16, 'min_samples_leaf': 6, 'bootstrap': False, 'criterion': 'gini', 'class_weight': 'balanced'}. Best is trial 15 with value: 0.4031247243674154.\n",
      "[I 2024-11-27 15:27:23,842] Trial 16 finished with value: 0.378230912637051 and parameters: {'n_estimators': 301, 'max_features': 'sqrt', 'max_depth': 13, 'min_samples_split': 17, 'min_samples_leaf': 4, 'bootstrap': False, 'criterion': 'entropy', 'class_weight': 'balanced'}. Best is trial 15 with value: 0.4031247243674154.\n",
      "[I 2024-11-27 15:27:28,120] Trial 17 finished with value: 0.3884494015429539 and parameters: {'n_estimators': 798, 'max_features': 'sqrt', 'max_depth': 19, 'min_samples_split': 8, 'min_samples_leaf': 6, 'bootstrap': False, 'criterion': 'gini', 'class_weight': 'balanced'}. Best is trial 15 with value: 0.4031247243674154.\n",
      "[I 2024-11-27 15:27:29,403] Trial 18 finished with value: 0.37288641448367343 and parameters: {'n_estimators': 269, 'max_features': 'log2', 'max_depth': 15, 'min_samples_split': 12, 'min_samples_leaf': 4, 'bootstrap': True, 'criterion': 'entropy', 'class_weight': None}. Best is trial 15 with value: 0.4031247243674154.\n",
      "[I 2024-11-27 15:27:31,590] Trial 19 finished with value: 0.37891549952815967 and parameters: {'n_estimators': 399, 'max_features': 'sqrt', 'max_depth': 7, 'min_samples_split': 17, 'min_samples_leaf': 8, 'bootstrap': False, 'criterion': 'log_loss', 'class_weight': 'balanced'}. Best is trial 15 with value: 0.4031247243674154.\n",
      "[I 2024-11-27 15:27:34,665] Trial 20 finished with value: 0.392737382428484 and parameters: {'n_estimators': 538, 'max_features': 'sqrt', 'max_depth': 18, 'min_samples_split': 13, 'min_samples_leaf': 6, 'bootstrap': False, 'criterion': 'entropy', 'class_weight': 'balanced'}. Best is trial 15 with value: 0.4031247243674154.\n",
      "[I 2024-11-27 15:27:36,755] Trial 21 finished with value: 0.3872451755506936 and parameters: {'n_estimators': 412, 'max_features': 'sqrt', 'max_depth': 11, 'min_samples_split': 15, 'min_samples_leaf': 7, 'bootstrap': False, 'criterion': 'gini', 'class_weight': 'balanced'}. Best is trial 15 with value: 0.4031247243674154.\n",
      "[I 2024-11-27 15:27:38,638] Trial 22 finished with value: 0.40353886139327566 and parameters: {'n_estimators': 368, 'max_features': 'sqrt', 'max_depth': 8, 'min_samples_split': 17, 'min_samples_leaf': 8, 'bootstrap': False, 'criterion': 'gini', 'class_weight': 'balanced'}. Best is trial 22 with value: 0.40353886139327566.\n",
      "[I 2024-11-27 15:27:40,069] Trial 23 finished with value: 0.38199505870473616 and parameters: {'n_estimators': 267, 'max_features': 'sqrt', 'max_depth': 7, 'min_samples_split': 17, 'min_samples_leaf': 8, 'bootstrap': False, 'criterion': 'gini', 'class_weight': 'balanced'}. Best is trial 22 with value: 0.40353886139327566.\n",
      "[I 2024-11-27 15:27:42,462] Trial 24 finished with value: 0.3926715979407394 and parameters: {'n_estimators': 480, 'max_features': 'sqrt', 'max_depth': 14, 'min_samples_split': 18, 'min_samples_leaf': 10, 'bootstrap': False, 'criterion': 'gini', 'class_weight': 'balanced'}. Best is trial 22 with value: 0.40353886139327566.\n",
      "[I 2024-11-27 15:27:44,737] Trial 25 finished with value: 0.39154744199769687 and parameters: {'n_estimators': 376, 'max_features': 'sqrt', 'max_depth': 11, 'min_samples_split': 10, 'min_samples_leaf': 5, 'bootstrap': False, 'criterion': 'gini', 'class_weight': 'balanced'}. Best is trial 22 with value: 0.40353886139327566.\n",
      "[I 2024-11-27 15:27:47,668] Trial 26 finished with value: 0.3375087983777291 and parameters: {'n_estimators': 617, 'max_features': 'log2', 'max_depth': 7, 'min_samples_split': 13, 'min_samples_leaf': 9, 'bootstrap': True, 'criterion': 'gini', 'class_weight': None}. Best is trial 22 with value: 0.40353886139327566.\n",
      "[I 2024-11-27 15:27:49,389] Trial 27 finished with value: 0.3893143388003912 and parameters: {'n_estimators': 285, 'max_features': 'sqrt', 'max_depth': 17, 'min_samples_split': 6, 'min_samples_leaf': 6, 'bootstrap': False, 'criterion': 'gini', 'class_weight': 'balanced'}. Best is trial 22 with value: 0.40353886139327566.\n",
      "[I 2024-11-27 15:27:51,648] Trial 28 finished with value: 0.3777589334646063 and parameters: {'n_estimators': 429, 'max_features': 'sqrt', 'max_depth': 10, 'min_samples_split': 18, 'min_samples_leaf': 8, 'bootstrap': False, 'criterion': 'log_loss', 'class_weight': 'balanced'}. Best is trial 22 with value: 0.40353886139327566.\n",
      "[I 2024-11-27 15:27:52,983] Trial 29 finished with value: 0.3892529970907884 and parameters: {'n_estimators': 228, 'max_features': 'sqrt', 'max_depth': 30, 'min_samples_split': 14, 'min_samples_leaf': 8, 'bootstrap': False, 'criterion': 'entropy', 'class_weight': 'balanced'}. Best is trial 22 with value: 0.40353886139327566.\n",
      "[I 2024-11-27 15:27:55,827] Trial 30 finished with value: 0.40778405642871834 and parameters: {'n_estimators': 499, 'max_features': 'sqrt', 'max_depth': 13, 'min_samples_split': 16, 'min_samples_leaf': 3, 'bootstrap': False, 'criterion': 'log_loss', 'class_weight': 'balanced'}. Best is trial 30 with value: 0.40778405642871834.\n",
      "[I 2024-11-27 15:27:58,962] Trial 31 finished with value: 0.3925700030279978 and parameters: {'n_estimators': 521, 'max_features': 'sqrt', 'max_depth': 13, 'min_samples_split': 16, 'min_samples_leaf': 3, 'bootstrap': False, 'criterion': 'log_loss', 'class_weight': 'balanced'}. Best is trial 30 with value: 0.40778405642871834.\n",
      "[I 2024-11-27 15:28:01,728] Trial 32 finished with value: 0.3717694060790628 and parameters: {'n_estimators': 493, 'max_features': 'sqrt', 'max_depth': 7, 'min_samples_split': 20, 'min_samples_leaf': 1, 'bootstrap': False, 'criterion': 'log_loss', 'class_weight': 'balanced'}. Best is trial 30 with value: 0.40778405642871834.\n",
      "[I 2024-11-27 15:28:03,741] Trial 33 finished with value: 0.3929424136373852 and parameters: {'n_estimators': 364, 'max_features': 'sqrt', 'max_depth': 14, 'min_samples_split': 16, 'min_samples_leaf': 3, 'bootstrap': False, 'criterion': 'log_loss', 'class_weight': 'balanced'}. Best is trial 30 with value: 0.40778405642871834.\n",
      "[I 2024-11-27 15:28:05,476] Trial 34 finished with value: 0.3555208374812454 and parameters: {'n_estimators': 442, 'max_features': 'log2', 'max_depth': 21, 'min_samples_split': 19, 'min_samples_leaf': 2, 'bootstrap': False, 'criterion': 'log_loss', 'class_weight': 'balanced'}. Best is trial 30 with value: 0.40778405642871834.\n",
      "[I 2024-11-27 15:28:07,603] Trial 35 finished with value: 0.3690187517886113 and parameters: {'n_estimators': 393, 'max_features': 'sqrt', 'max_depth': 11, 'min_samples_split': 16, 'min_samples_leaf': 7, 'bootstrap': True, 'criterion': 'log_loss', 'class_weight': None}. Best is trial 30 with value: 0.40778405642871834.\n",
      "[I 2024-11-27 15:28:09,279] Trial 36 finished with value: 0.3586801671862093 and parameters: {'n_estimators': 329, 'max_features': 'sqrt', 'max_depth': 5, 'min_samples_split': 14, 'min_samples_leaf': 5, 'bootstrap': False, 'criterion': 'log_loss', 'class_weight': 'balanced'}. Best is trial 30 with value: 0.40778405642871834.\n",
      "[I 2024-11-27 15:28:10,948] Trial 37 finished with value: 0.38145558267129254 and parameters: {'n_estimators': 445, 'max_features': 'log2', 'max_depth': 24, 'min_samples_split': 19, 'min_samples_leaf': 2, 'bootstrap': False, 'criterion': 'gini', 'class_weight': 'balanced'}. Best is trial 30 with value: 0.40778405642871834.\n",
      "[I 2024-11-27 15:28:14,094] Trial 38 finished with value: 0.3831414778318803 and parameters: {'n_estimators': 644, 'max_features': 'sqrt', 'max_depth': 12, 'min_samples_split': 15, 'min_samples_leaf': 4, 'bootstrap': False, 'criterion': 'gini', 'class_weight': None}. Best is trial 30 with value: 0.40778405642871834.\n",
      "[I 2024-11-27 15:28:16,774] Trial 39 finished with value: 0.37307699037934516 and parameters: {'n_estimators': 504, 'max_features': 'sqrt', 'max_depth': 17, 'min_samples_split': 13, 'min_samples_leaf': 7, 'bootstrap': True, 'criterion': 'gini', 'class_weight': 'balanced'}. Best is trial 30 with value: 0.40778405642871834.\n",
      "[I 2024-11-27 15:28:18,548] Trial 40 finished with value: 0.38207086307601673 and parameters: {'n_estimators': 471, 'max_features': 'log2', 'max_depth': 10, 'min_samples_split': 19, 'min_samples_leaf': 9, 'bootstrap': False, 'criterion': 'log_loss', 'class_weight': 'balanced'}. Best is trial 30 with value: 0.40778405642871834.\n",
      "[I 2024-11-27 15:28:20,562] Trial 41 finished with value: 0.3994514914909651 and parameters: {'n_estimators': 364, 'max_features': 'sqrt', 'max_depth': 8, 'min_samples_split': 15, 'min_samples_leaf': 6, 'bootstrap': False, 'criterion': 'gini', 'class_weight': 'balanced'}. Best is trial 30 with value: 0.40778405642871834.\n",
      "[I 2024-11-27 15:28:22,578] Trial 42 finished with value: 0.4066762491203132 and parameters: {'n_estimators': 342, 'max_features': 'sqrt', 'max_depth': 8, 'min_samples_split': 16, 'min_samples_leaf': 6, 'bootstrap': False, 'criterion': 'gini', 'class_weight': 'balanced'}. Best is trial 30 with value: 0.40778405642871834.\n",
      "[I 2024-11-27 15:28:24,104] Trial 43 finished with value: 0.3841373099778591 and parameters: {'n_estimators': 311, 'max_features': 'sqrt', 'max_depth': 6, 'min_samples_split': 17, 'min_samples_leaf': 5, 'bootstrap': False, 'criterion': 'gini', 'class_weight': 'balanced'}. Best is trial 30 with value: 0.40778405642871834.\n",
      "[I 2024-11-27 15:28:25,858] Trial 44 finished with value: 0.41194163844748743 and parameters: {'n_estimators': 350, 'max_features': 'sqrt', 'max_depth': 10, 'min_samples_split': 16, 'min_samples_leaf': 6, 'bootstrap': False, 'criterion': 'gini', 'class_weight': 'balanced'}. Best is trial 44 with value: 0.41194163844748743.\n",
      "[I 2024-11-27 15:28:27,559] Trial 45 finished with value: 0.40712609167541897 and parameters: {'n_estimators': 344, 'max_features': 'sqrt', 'max_depth': 8, 'min_samples_split': 16, 'min_samples_leaf': 6, 'bootstrap': False, 'criterion': 'gini', 'class_weight': 'balanced'}. Best is trial 44 with value: 0.41194163844748743.\n",
      "[I 2024-11-27 15:28:28,774] Trial 46 finished with value: 0.4101419729251212 and parameters: {'n_estimators': 243, 'max_features': 'sqrt', 'max_depth': 8, 'min_samples_split': 18, 'min_samples_leaf': 7, 'bootstrap': False, 'criterion': 'gini', 'class_weight': 'balanced'}. Best is trial 44 with value: 0.41194163844748743.\n",
      "[I 2024-11-27 15:28:29,889] Trial 47 finished with value: 0.39583179150129616 and parameters: {'n_estimators': 237, 'max_features': 'sqrt', 'max_depth': 5, 'min_samples_split': 18, 'min_samples_leaf': 7, 'bootstrap': False, 'criterion': 'gini', 'class_weight': None}. Best is trial 44 with value: 0.41194163844748743.\n",
      "[I 2024-11-27 15:28:30,923] Trial 48 finished with value: 0.35081319508951087 and parameters: {'n_estimators': 203, 'max_features': 'sqrt', 'max_depth': 9, 'min_samples_split': 20, 'min_samples_leaf': 6, 'bootstrap': True, 'criterion': 'gini', 'class_weight': 'balanced'}. Best is trial 44 with value: 0.41194163844748743.\n",
      "[I 2024-11-27 15:28:32,103] Trial 49 finished with value: 0.37106123302387245 and parameters: {'n_estimators': 252, 'max_features': 'sqrt', 'max_depth': 6, 'min_samples_split': 19, 'min_samples_leaf': 5, 'bootstrap': False, 'criterion': 'gini', 'class_weight': 'balanced'}. Best is trial 44 with value: 0.41194163844748743.\n",
      "[I 2024-11-27 15:28:33,801] Trial 50 finished with value: 0.38257040087535443 and parameters: {'n_estimators': 339, 'max_features': 'sqrt', 'max_depth': 8, 'min_samples_split': 14, 'min_samples_leaf': 7, 'bootstrap': False, 'criterion': 'gini', 'class_weight': 'balanced'}. Best is trial 44 with value: 0.41194163844748743.\n",
      "[I 2024-11-27 15:28:35,162] Trial 51 finished with value: 0.40124591311348523 and parameters: {'n_estimators': 278, 'max_features': 'sqrt', 'max_depth': 8, 'min_samples_split': 17, 'min_samples_leaf': 7, 'bootstrap': False, 'criterion': 'gini', 'class_weight': 'balanced'}. Best is trial 44 with value: 0.41194163844748743.\n",
      "[I 2024-11-27 15:28:36,751] Trial 52 finished with value: 0.4057904127315142 and parameters: {'n_estimators': 303, 'max_features': 'sqrt', 'max_depth': 10, 'min_samples_split': 16, 'min_samples_leaf': 8, 'bootstrap': False, 'criterion': 'gini', 'class_weight': 'balanced'}. Best is trial 44 with value: 0.41194163844748743.\n",
      "[I 2024-11-27 15:28:38,319] Trial 53 finished with value: 0.4026935775061961 and parameters: {'n_estimators': 298, 'max_features': 'sqrt', 'max_depth': 10, 'min_samples_split': 16, 'min_samples_leaf': 6, 'bootstrap': False, 'criterion': 'gini', 'class_weight': 'balanced'}. Best is trial 44 with value: 0.41194163844748743.\n",
      "[I 2024-11-27 15:28:39,817] Trial 54 finished with value: 0.3763737826538338 and parameters: {'n_estimators': 252, 'max_features': 'sqrt', 'max_depth': 12, 'min_samples_split': 18, 'min_samples_leaf': 6, 'bootstrap': False, 'criterion': 'gini', 'class_weight': 'balanced'}. Best is trial 44 with value: 0.41194163844748743.\n",
      "[I 2024-11-27 15:28:41,462] Trial 55 finished with value: 0.3961383009013241 and parameters: {'n_estimators': 311, 'max_features': 'sqrt', 'max_depth': 10, 'min_samples_split': 15, 'min_samples_leaf': 7, 'bootstrap': False, 'criterion': 'gini', 'class_weight': 'balanced'}. Best is trial 44 with value: 0.41194163844748743.\n",
      "[I 2024-11-27 15:28:43,374] Trial 56 finished with value: 0.4103989033121411 and parameters: {'n_estimators': 336, 'max_features': 'sqrt', 'max_depth': 11, 'min_samples_split': 16, 'min_samples_leaf': 5, 'bootstrap': False, 'criterion': 'gini', 'class_weight': 'balanced'}. Best is trial 44 with value: 0.41194163844748743.\n",
      "[I 2024-11-27 15:28:45,281] Trial 57 finished with value: 0.3884062501825659 and parameters: {'n_estimators': 342, 'max_features': 'sqrt', 'max_depth': 6, 'min_samples_split': 14, 'min_samples_leaf': 3, 'bootstrap': False, 'criterion': 'gini', 'class_weight': 'balanced'}. Best is trial 44 with value: 0.41194163844748743.\n",
      "[I 2024-11-27 15:28:46,969] Trial 58 finished with value: 0.3954969219178898 and parameters: {'n_estimators': 404, 'max_features': 'log2', 'max_depth': 11, 'min_samples_split': 13, 'min_samples_leaf': 4, 'bootstrap': False, 'criterion': 'gini', 'class_weight': 'balanced'}. Best is trial 44 with value: 0.41194163844748743.\n",
      "[I 2024-11-27 15:28:50,860] Trial 59 finished with value: 0.3939935191355014 and parameters: {'n_estimators': 684, 'max_features': 'sqrt', 'max_depth': 15, 'min_samples_split': 11, 'min_samples_leaf': 5, 'bootstrap': True, 'criterion': 'gini', 'class_weight': None}. Best is trial 44 with value: 0.41194163844748743.\n",
      "[I 2024-11-27 15:28:54,807] Trial 60 finished with value: 0.39466927319218253 and parameters: {'n_estimators': 743, 'max_features': 'sqrt', 'max_depth': 9, 'min_samples_split': 18, 'min_samples_leaf': 5, 'bootstrap': False, 'criterion': 'gini', 'class_weight': 'balanced'}. Best is trial 44 with value: 0.41194163844748743.\n",
      "[I 2024-11-27 15:28:56,348] Trial 61 finished with value: 0.4057904127315142 and parameters: {'n_estimators': 296, 'max_features': 'sqrt', 'max_depth': 12, 'min_samples_split': 16, 'min_samples_leaf': 8, 'bootstrap': False, 'criterion': 'gini', 'class_weight': 'balanced'}. Best is trial 44 with value: 0.41194163844748743.\n",
      "[I 2024-11-27 15:28:57,940] Trial 62 finished with value: 0.39109327215279477 and parameters: {'n_estimators': 320, 'max_features': 'sqrt', 'max_depth': 8, 'min_samples_split': 16, 'min_samples_leaf': 9, 'bootstrap': False, 'criterion': 'gini', 'class_weight': 'balanced'}. Best is trial 44 with value: 0.41194163844748743.\n",
      "[I 2024-11-27 15:28:59,364] Trial 63 finished with value: 0.3976381951381951 and parameters: {'n_estimators': 253, 'max_features': 'sqrt', 'max_depth': 9, 'min_samples_split': 15, 'min_samples_leaf': 6, 'bootstrap': False, 'criterion': 'gini', 'class_weight': 'balanced'}. Best is trial 44 with value: 0.41194163844748743.\n",
      "[I 2024-11-27 15:29:01,309] Trial 64 finished with value: 0.40022343289683304 and parameters: {'n_estimators': 348, 'max_features': 'sqrt', 'max_depth': 11, 'min_samples_split': 17, 'min_samples_leaf': 2, 'bootstrap': False, 'criterion': 'gini', 'class_weight': 'balanced'}. Best is trial 44 with value: 0.41194163844748743.\n",
      "[I 2024-11-27 15:29:02,499] Trial 65 finished with value: 0.40727527782379624 and parameters: {'n_estimators': 226, 'max_features': 'sqrt', 'max_depth': 13, 'min_samples_split': 17, 'min_samples_leaf': 7, 'bootstrap': False, 'criterion': 'gini', 'class_weight': 'balanced'}. Best is trial 44 with value: 0.41194163844748743.\n",
      "[I 2024-11-27 15:29:03,644] Trial 66 finished with value: 0.3628296592046684 and parameters: {'n_estimators': 217, 'max_features': 'sqrt', 'max_depth': 13, 'min_samples_split': 18, 'min_samples_leaf': 6, 'bootstrap': False, 'criterion': 'log_loss', 'class_weight': 'balanced'}. Best is trial 44 with value: 0.41194163844748743.\n",
      "[I 2024-11-27 15:29:06,057] Trial 67 finished with value: 0.36824493430587035 and parameters: {'n_estimators': 423, 'max_features': 'sqrt', 'max_depth': 14, 'min_samples_split': 3, 'min_samples_leaf': 7, 'bootstrap': False, 'criterion': 'entropy', 'class_weight': 'balanced'}. Best is trial 44 with value: 0.41194163844748743.\n",
      "[I 2024-11-27 15:29:08,236] Trial 68 finished with value: 0.4032231043809992 and parameters: {'n_estimators': 383, 'max_features': 'sqrt', 'max_depth': 16, 'min_samples_split': 17, 'min_samples_leaf': 4, 'bootstrap': False, 'criterion': 'gini', 'class_weight': 'balanced'}. Best is trial 44 with value: 0.41194163844748743.\n",
      "[I 2024-11-27 15:29:09,581] Trial 69 finished with value: 0.3917190534643016 and parameters: {'n_estimators': 238, 'max_features': 'sqrt', 'max_depth': 7, 'min_samples_split': 19, 'min_samples_leaf': 6, 'bootstrap': False, 'criterion': 'gini', 'class_weight': 'balanced'}. Best is trial 44 with value: 0.41194163844748743.\n",
      "[I 2024-11-27 15:29:11,936] Trial 70 finished with value: 0.3767929702601982 and parameters: {'n_estimators': 569, 'max_features': 'log2', 'max_depth': 11, 'min_samples_split': 15, 'min_samples_leaf': 7, 'bootstrap': False, 'criterion': 'log_loss', 'class_weight': None}. Best is trial 44 with value: 0.41194163844748743.\n",
      "[I 2024-11-27 15:29:13,582] Trial 71 finished with value: 0.41900267787472567 and parameters: {'n_estimators': 265, 'max_features': 'sqrt', 'max_depth': 10, 'min_samples_split': 16, 'min_samples_leaf': 8, 'bootstrap': False, 'criterion': 'gini', 'class_weight': 'balanced'}. Best is trial 71 with value: 0.41900267787472567.\n",
      "[I 2024-11-27 15:29:15,059] Trial 72 finished with value: 0.4049537936263943 and parameters: {'n_estimators': 271, 'max_features': 'sqrt', 'max_depth': 13, 'min_samples_split': 17, 'min_samples_leaf': 7, 'bootstrap': False, 'criterion': 'gini', 'class_weight': 'balanced'}. Best is trial 71 with value: 0.41900267787472567.\n",
      "[I 2024-11-27 15:29:16,244] Trial 73 finished with value: 0.4015708596929075 and parameters: {'n_estimators': 221, 'max_features': 'sqrt', 'max_depth': 12, 'min_samples_split': 7, 'min_samples_leaf': 8, 'bootstrap': False, 'criterion': 'gini', 'class_weight': 'balanced'}. Best is trial 71 with value: 0.41900267787472567.\n",
      "[I 2024-11-27 15:29:17,312] Trial 74 finished with value: 0.40604484225451964 and parameters: {'n_estimators': 202, 'max_features': 'sqrt', 'max_depth': 9, 'min_samples_split': 16, 'min_samples_leaf': 7, 'bootstrap': False, 'criterion': 'gini', 'class_weight': 'balanced'}. Best is trial 71 with value: 0.41900267787472567.\n",
      "[I 2024-11-27 15:29:18,779] Trial 75 finished with value: 0.38224818121708687 and parameters: {'n_estimators': 258, 'max_features': 'sqrt', 'max_depth': 10, 'min_samples_split': 14, 'min_samples_leaf': 6, 'bootstrap': False, 'criterion': 'gini', 'class_weight': 'balanced'}. Best is trial 71 with value: 0.41900267787472567.\n",
      "[I 2024-11-27 15:29:20,362] Trial 76 finished with value: 0.3690219190024357 and parameters: {'n_estimators': 292, 'max_features': 'sqrt', 'max_depth': 8, 'min_samples_split': 15, 'min_samples_leaf': 5, 'bootstrap': True, 'criterion': 'gini', 'class_weight': 'balanced'}. Best is trial 71 with value: 0.41900267787472567.\n",
      "[I 2024-11-27 15:29:21,616] Trial 77 finished with value: 0.36215257145489366 and parameters: {'n_estimators': 235, 'max_features': 'sqrt', 'max_depth': 6, 'min_samples_split': 18, 'min_samples_leaf': 9, 'bootstrap': False, 'criterion': 'entropy', 'class_weight': 'balanced'}. Best is trial 71 with value: 0.41900267787472567.\n",
      "[I 2024-11-27 15:29:23,302] Trial 78 finished with value: 0.38066126450935334 and parameters: {'n_estimators': 328, 'max_features': 'sqrt', 'max_depth': 14, 'min_samples_split': 16, 'min_samples_leaf': 8, 'bootstrap': False, 'criterion': 'log_loss', 'class_weight': 'balanced'}. Best is trial 71 with value: 0.41900267787472567.\n",
      "[I 2024-11-27 15:29:24,750] Trial 79 finished with value: 0.40537940270121586 and parameters: {'n_estimators': 286, 'max_features': 'sqrt', 'max_depth': 9, 'min_samples_split': 17, 'min_samples_leaf': 6, 'bootstrap': False, 'criterion': 'gini', 'class_weight': 'balanced'}. Best is trial 71 with value: 0.41900267787472567.\n",
      "[I 2024-11-27 15:29:25,793] Trial 80 finished with value: 0.38732821399297374 and parameters: {'n_estimators': 268, 'max_features': 'log2', 'max_depth': 26, 'min_samples_split': 19, 'min_samples_leaf': 8, 'bootstrap': False, 'criterion': 'gini', 'class_weight': 'balanced'}. Best is trial 71 with value: 0.41900267787472567.\n",
      "[I 2024-11-27 15:29:26,820] Trial 81 finished with value: 0.4006768768865543 and parameters: {'n_estimators': 200, 'max_features': 'sqrt', 'max_depth': 9, 'min_samples_split': 16, 'min_samples_leaf': 7, 'bootstrap': False, 'criterion': 'gini', 'class_weight': 'balanced'}. Best is trial 71 with value: 0.41900267787472567.\n",
      "[I 2024-11-27 15:29:28,672] Trial 82 finished with value: 0.3888516652045314 and parameters: {'n_estimators': 358, 'max_features': 'sqrt', 'max_depth': 7, 'min_samples_split': 17, 'min_samples_leaf': 7, 'bootstrap': False, 'criterion': 'gini', 'class_weight': 'balanced'}. Best is trial 71 with value: 0.41900267787472567.\n",
      "[I 2024-11-27 15:29:29,912] Trial 83 finished with value: 0.3983877950649902 and parameters: {'n_estimators': 211, 'max_features': 'sqrt', 'max_depth': 10, 'min_samples_split': 15, 'min_samples_leaf': 1, 'bootstrap': False, 'criterion': 'gini', 'class_weight': 'balanced'}. Best is trial 71 with value: 0.41900267787472567.\n",
      "[I 2024-11-27 15:29:31,227] Trial 84 finished with value: 0.40241366590107247 and parameters: {'n_estimators': 236, 'max_features': 'sqrt', 'max_depth': 12, 'min_samples_split': 16, 'min_samples_leaf': 6, 'bootstrap': False, 'criterion': 'gini', 'class_weight': 'balanced'}. Best is trial 71 with value: 0.41900267787472567.\n",
      "[I 2024-11-27 15:29:33,090] Trial 85 finished with value: 0.3913176804964986 and parameters: {'n_estimators': 383, 'max_features': 'sqrt', 'max_depth': 9, 'min_samples_split': 17, 'min_samples_leaf': 7, 'bootstrap': False, 'criterion': 'gini', 'class_weight': 'balanced'}. Best is trial 71 with value: 0.41900267787472567.\n",
      "[I 2024-11-27 15:29:35,562] Trial 86 finished with value: 0.3879464391096769 and parameters: {'n_estimators': 527, 'max_features': 'sqrt', 'max_depth': 8, 'min_samples_split': 18, 'min_samples_leaf': 7, 'bootstrap': False, 'criterion': 'gini', 'class_weight': 'balanced'}. Best is trial 71 with value: 0.41900267787472567.\n",
      "[I 2024-11-27 15:29:36,731] Trial 87 finished with value: 0.39588554233291073 and parameters: {'n_estimators': 223, 'max_features': 'sqrt', 'max_depth': 19, 'min_samples_split': 14, 'min_samples_leaf': 5, 'bootstrap': False, 'criterion': 'log_loss', 'class_weight': None}. Best is trial 71 with value: 0.41900267787472567.\n",
      "[I 2024-11-27 15:29:38,568] Trial 88 finished with value: 0.3782730973423453 and parameters: {'n_estimators': 320, 'max_features': 'sqrt', 'max_depth': 11, 'min_samples_split': 10, 'min_samples_leaf': 6, 'bootstrap': True, 'criterion': 'gini', 'class_weight': 'balanced'}. Best is trial 71 with value: 0.41900267787472567.\n",
      "[I 2024-11-27 15:29:39,959] Trial 89 finished with value: 0.373044523677516 and parameters: {'n_estimators': 247, 'max_features': 'sqrt', 'max_depth': 13, 'min_samples_split': 20, 'min_samples_leaf': 3, 'bootstrap': False, 'criterion': 'gini', 'class_weight': 'balanced'}. Best is trial 71 with value: 0.41900267787472567.\n",
      "[I 2024-11-27 15:29:42,087] Trial 90 finished with value: 0.38246963942531226 and parameters: {'n_estimators': 338, 'max_features': 'sqrt', 'max_depth': 10, 'min_samples_split': 13, 'min_samples_leaf': 7, 'bootstrap': False, 'criterion': 'entropy', 'class_weight': 'balanced'}. Best is trial 71 with value: 0.41900267787472567.\n",
      "[I 2024-11-27 15:29:43,760] Trial 91 finished with value: 0.4012454425695364 and parameters: {'n_estimators': 307, 'max_features': 'sqrt', 'max_depth': 10, 'min_samples_split': 16, 'min_samples_leaf': 8, 'bootstrap': False, 'criterion': 'gini', 'class_weight': 'balanced'}. Best is trial 71 with value: 0.41900267787472567.\n",
      "[I 2024-11-27 15:29:45,211] Trial 92 finished with value: 0.39669782352191735 and parameters: {'n_estimators': 280, 'max_features': 'sqrt', 'max_depth': 7, 'min_samples_split': 16, 'min_samples_leaf': 8, 'bootstrap': False, 'criterion': 'gini', 'class_weight': 'balanced'}. Best is trial 71 with value: 0.41900267787472567.\n",
      "[I 2024-11-27 15:29:46,590] Trial 93 finished with value: 0.39660422936570466 and parameters: {'n_estimators': 262, 'max_features': 'sqrt', 'max_depth': 12, 'min_samples_split': 15, 'min_samples_leaf': 9, 'bootstrap': False, 'criterion': 'gini', 'class_weight': 'balanced'}. Best is trial 71 with value: 0.41900267787472567.\n",
      "[I 2024-11-27 15:29:49,583] Trial 94 finished with value: 0.3936718257830725 and parameters: {'n_estimators': 622, 'max_features': 'sqrt', 'max_depth': 8, 'min_samples_split': 16, 'min_samples_leaf': 10, 'bootstrap': False, 'criterion': 'gini', 'class_weight': 'balanced'}. Best is trial 71 with value: 0.41900267787472567.\n",
      "[I 2024-11-27 15:29:51,394] Trial 95 finished with value: 0.38958721947168484 and parameters: {'n_estimators': 354, 'max_features': 'sqrt', 'max_depth': 11, 'min_samples_split': 17, 'min_samples_leaf': 8, 'bootstrap': False, 'criterion': 'gini', 'class_weight': 'balanced'}. Best is trial 71 with value: 0.41900267787472567.\n",
      "[I 2024-11-27 15:29:52,959] Trial 96 finished with value: 0.3659922736475714 and parameters: {'n_estimators': 307, 'max_features': 'sqrt', 'max_depth': 6, 'min_samples_split': 14, 'min_samples_leaf': 7, 'bootstrap': False, 'criterion': 'gini', 'class_weight': 'balanced'}. Best is trial 71 with value: 0.41900267787472567.\n",
      "[I 2024-11-27 15:29:54,395] Trial 97 finished with value: 0.3854556168114456 and parameters: {'n_estimators': 280, 'max_features': 'sqrt', 'max_depth': 10, 'min_samples_split': 12, 'min_samples_leaf': 8, 'bootstrap': False, 'criterion': 'log_loss', 'class_weight': 'balanced'}. Best is trial 71 with value: 0.41900267787472567.\n",
      "[I 2024-11-27 15:29:55,760] Trial 98 finished with value: 0.37857197756345545 and parameters: {'n_estimators': 370, 'max_features': 'log2', 'max_depth': 9, 'min_samples_split': 18, 'min_samples_leaf': 6, 'bootstrap': False, 'criterion': 'gini', 'class_weight': 'balanced'}. Best is trial 71 with value: 0.41900267787472567.\n",
      "[I 2024-11-27 15:29:57,074] Trial 99 finished with value: 0.3861071625313111 and parameters: {'n_estimators': 245, 'max_features': 'sqrt', 'max_depth': 8, 'min_samples_split': 15, 'min_samples_leaf': 6, 'bootstrap': False, 'criterion': 'gini', 'class_weight': 'balanced'}. Best is trial 71 with value: 0.41900267787472567.\n"
     ]
    },
    {
     "name": "stdout",
     "output_type": "stream",
     "text": [
      "Melhor acurácia: 0.41900267787472567\n",
      "Melhores hiperparâmetros: {'n_estimators': 265, 'max_features': 'sqrt', 'max_depth': 10, 'min_samples_split': 16, 'min_samples_leaf': 8, 'bootstrap': False, 'criterion': 'gini', 'class_weight': 'balanced'}\n"
     ]
    }
   ],
   "source": [
    "study = optuna.create_study(direction='maximize', sampler=optuna.samplers.TPESampler())\n",
    "study.optimize(objective, n_trials=100)\n",
    "print(f\"Melhor acurácia: {study.best_value}\")\n",
    "print(f\"Melhores hiperparâmetros: {study.best_params}\")\n"
   ]
  },
  {
   "cell_type": "markdown",
   "metadata": {},
   "source": [
    "Resultados"
   ]
  },
  {
   "cell_type": "code",
   "execution_count": 44,
   "metadata": {},
   "outputs": [],
   "source": [
    "\n",
    "# *? ###################################################################################################################################################################\n",
    "# *?     ACCURACY    ##          DataSet        ##      Parametros\n",
    "# *? ###################################################################################################################################################################\n",
    "# *?  0.5157575      ##   5 data apos 1_2 sem des ##  {'n_estimators': 997, 'max_features': 'log2', 'max_depth': 13, 'min_samples_split': 4, 'min_samples_leaf': 2, 'bootstrap': False}\n",
    "# *?  0.520101010    ##   5 data apos 1_2 sem des ## {'n_estimators': 994, 'max_features': 'log2', 'max_depth': 16, 'min_samples_split': 3, 'min_samples_leaf': 1, 'bootstrap': False}\n",
    "# *? 0.51565656565   ## 5 data apos 1_2 sem des    ## {'n_estimators': 946, 'max_features': 'log2', 'max_depth': 25, 'min_samples_split': 3, 'min_samples_leaf': 2, 'bootstrap': False}"
   ]
  },
  {
   "cell_type": "code",
   "execution_count": 45,
   "metadata": {},
   "outputs": [],
   "source": [
    "\n",
    "# *? ###################################################################################################################################################################\n",
    "# *?     F1_MACRO_Cross    ##          DataSet        ##      Parametros\n",
    "# *? ###################################################################################################################################################################\n",
    "# *?   0.43147             ##  DF_1_After_Pre_Processamento.csv   ## {'n_estimators': 472, 'max_features': 'sqrt', 'max_depth': 15, 'min_samples_split': 10, 'min_samples_leaf': 5, 'bootstrap': False}\n",
    "# **   0.43206             ##  DF_1_After_Pre_Processamento.csv   ## {'n_estimators': 422, 'max_features': 'sqrt', 'max_depth': 22, 'min_samples_split': 7, 'min_samples_leaf': 5, 'bootstrap': False, 'criterion': 'gini', 'class_weight': None}\n",
    "# *? "
   ]
  },
  {
   "cell_type": "markdown",
   "metadata": {},
   "source": [
    "## Extra Trees  "
   ]
  },
  {
   "cell_type": "code",
   "execution_count": null,
   "metadata": {},
   "outputs": [],
   "source": []
  },
  {
   "cell_type": "markdown",
   "metadata": {},
   "source": [
    "### Score"
   ]
  },
  {
   "cell_type": "code",
   "execution_count": 46,
   "metadata": {},
   "outputs": [
    {
     "name": "stdout",
     "output_type": "stream",
     "text": [
      "F1_macro: 0.3769970904272175\n",
      "              precision    recall  f1-score   support\n",
      "\n",
      "           0       0.55      0.75      0.63        24\n",
      "           1       0.50      0.47      0.48        15\n",
      "           2       0.17      0.18      0.17        17\n",
      "           3       0.33      0.17      0.22        18\n",
      "\n",
      "    accuracy                           0.42        74\n",
      "   macro avg       0.39      0.39      0.38        74\n",
      "weighted avg       0.40      0.42      0.40        74\n",
      "\n"
     ]
    },
    {
     "data": {
      "image/png": "[encoded data removed]",
      "text/plain": [
       "<Figure size 1000x700 with 2 Axes>"
      ]
     },
     "metadata": {},
     "output_type": "display_data"
    }
   ],
   "source": [
    "# Cell 5: Treinamento com os melhores parâmetros encontrados\n",
    "\n",
    "\n",
    "ExtraTrees_model_score = ExtraTreesClassifier(\n",
    "    n_estimators=447, max_features='sqrt', max_depth=15,\n",
    "    min_samples_split=10, min_samples_leaf=5, bootstrap=False, random_state=34\n",
    ")\n",
    "\n",
    "ExtraTrees_model_score.fit(X_train, y_train)\n",
    "et_pred = ExtraTrees_model_score.predict(X_test)\n",
    "et_f1_macro = f1_score(y_test, et_pred, average='macro')\n",
    "print(\"F1_macro:\", et_f1_macro)\n",
    "print(classification_report(y_test,et_pred))\n",
    "cm = confusion_matrix(y_test,et_pred)\n",
    "plot_confusion_matrix_with_labels(cm, label_mapping)\n",
    "\n",
    "\n"
   ]
  },
  {
   "cell_type": "markdown",
   "metadata": {},
   "source": [
    "### Cross Validation Score F1_MACRO"
   ]
  },
  {
   "cell_type": "code",
   "execution_count": 47,
   "metadata": {},
   "outputs": [
    {
     "name": "stdout",
     "output_type": "stream",
     "text": [
      "F1 Macro score: 0.4266636631309459\n",
      "F1 Macro score deviation: 0.0569735825548716\n"
     ]
    }
   ],
   "source": [
    "ExtraTrees_model_cross_valition_score = ExtraTreesClassifier(\n",
    "    n_estimators=447, max_features='sqrt', max_depth=15,\n",
    "    min_samples_split=10, min_samples_leaf=5, bootstrap=False, random_state=34\n",
    ")\n",
    "\n",
    "et_f1_macro_score = cross_val_score(ExtraTrees_model_cross_valition_score, X_train, y_train, cv=5,scoring='f1_macro')\n",
    "\n",
    "print(f\"F1 Macro score: {et_f1_macro_score.mean()}\")\n",
    "print(f\"F1 Macro score deviation: {et_f1_macro_score.std()}\")\n"
   ]
  },
  {
   "cell_type": "markdown",
   "metadata": {},
   "source": [
    "### Cross Validation Score Balance Accuracy "
   ]
  },
  {
   "cell_type": "code",
   "execution_count": 48,
   "metadata": {},
   "outputs": [
    {
     "name": "stdout",
     "output_type": "stream",
     "text": [
      "F1 Macro score: 0.4518398268398268\n",
      "F1 Macro score deviation: 0.053294035522644105\n"
     ]
    }
   ],
   "source": [
    "ExtraTrees_model_balance_accuracy_score = ExtraTreesClassifier(\n",
    "    n_estimators=447, max_features='sqrt', max_depth=15,\n",
    "    min_samples_split=10, min_samples_leaf=5, bootstrap=False, random_state=34\n",
    ")\n",
    "\n",
    "et_balance_accuracy_score = cross_val_score(ExtraTrees_model_cross_valition_score, X_train, y_train, cv=5,scoring='balanced_accuracy')\n",
    "\n",
    "print(f\"F1 Macro score: {et_balance_accuracy_score.mean()}\")\n",
    "print(f\"F1 Macro score deviation: {et_balance_accuracy_score.std()}\")"
   ]
  },
  {
   "cell_type": "code",
   "execution_count": 49,
   "metadata": {},
   "outputs": [],
   "source": [
    "\n",
    "\n",
    "\n",
    "#generate_predictions_csv(ExtraTrees_model_score,     data_test          )# If the new best score is higher, update the file\n",
    "\n",
    "\n",
    "\n",
    "\n"
   ]
  },
  {
   "cell_type": "code",
   "execution_count": null,
   "metadata": {},
   "outputs": [],
   "source": []
  }
 ],
 "metadata": {
  "kernelspec": {
   "display_name": "Python 3",
   "language": "python",
   "name": "python3"
  },
  "language_info": {
   "codemirror_mode": {
    "name": "ipython",
    "version": 3
   },
   "file_extension": ".py",
   "mimetype": "text/x-python",
   "name": "python",
   "nbconvert_exporter": "python",
   "pygments_lexer": "ipython3",
   "version": "3.12.2"
  }
 },
 "nbformat": 4,
 "nbformat_minor": 2
}
